{
  "cells": [
    {
      "cell_type": "code",
      "execution_count": null,
      "metadata": {
        "id": "PCkVq6ncuFa2",
        "colab": {
          "base_uri": "https://localhost:8080/"
        },
        "outputId": "502a20ae-d081-4770-85e5-44c444301511"
      },
      "outputs": [
        {
          "output_type": "stream",
          "name": "stdout",
          "text": [
            "Mounted at /content/drive\n"
          ]
        }
      ],
      "source": [
        "from google.colab import drive\n",
        "drive.mount('/content/drive')"
      ]
    },
    {
      "cell_type": "code",
      "execution_count": null,
      "metadata": {
        "id": "uH9IDayRv3kf",
        "colab": {
          "base_uri": "https://localhost:8080/"
        },
        "outputId": "94d3822c-3487-4936-a005-27b03a47e8e7"
      },
      "outputs": [
        {
          "output_type": "stream",
          "name": "stdout",
          "text": [
            "Looking in indexes: https://pypi.org/simple, https://us-python.pkg.dev/colab-wheels/public/simple/\n",
            "Requirement already satisfied: segmentation-models in /usr/local/lib/python3.7/dist-packages (1.0.1)\n",
            "Requirement already satisfied: image-classifiers==1.0.0 in /usr/local/lib/python3.7/dist-packages (from segmentation-models) (1.0.0)\n",
            "Requirement already satisfied: keras-applications<=1.0.8,>=1.0.7 in /usr/local/lib/python3.7/dist-packages (from segmentation-models) (1.0.8)\n",
            "Requirement already satisfied: efficientnet==1.0.0 in /usr/local/lib/python3.7/dist-packages (from segmentation-models) (1.0.0)\n",
            "Requirement already satisfied: scikit-image in /usr/local/lib/python3.7/dist-packages (from efficientnet==1.0.0->segmentation-models) (0.18.3)\n",
            "Requirement already satisfied: h5py in /usr/local/lib/python3.7/dist-packages (from keras-applications<=1.0.8,>=1.0.7->segmentation-models) (3.1.0)\n",
            "Requirement already satisfied: numpy>=1.9.1 in /usr/local/lib/python3.7/dist-packages (from keras-applications<=1.0.8,>=1.0.7->segmentation-models) (1.21.6)\n",
            "Requirement already satisfied: cached-property in /usr/local/lib/python3.7/dist-packages (from h5py->keras-applications<=1.0.8,>=1.0.7->segmentation-models) (1.5.2)\n",
            "Requirement already satisfied: pillow!=7.1.0,!=7.1.1,>=4.3.0 in /usr/local/lib/python3.7/dist-packages (from scikit-image->efficientnet==1.0.0->segmentation-models) (7.1.2)\n",
            "Requirement already satisfied: imageio>=2.3.0 in /usr/local/lib/python3.7/dist-packages (from scikit-image->efficientnet==1.0.0->segmentation-models) (2.4.1)\n",
            "Requirement already satisfied: tifffile>=2019.7.26 in /usr/local/lib/python3.7/dist-packages (from scikit-image->efficientnet==1.0.0->segmentation-models) (2021.11.2)\n",
            "Requirement already satisfied: matplotlib!=3.0.0,>=2.0.0 in /usr/local/lib/python3.7/dist-packages (from scikit-image->efficientnet==1.0.0->segmentation-models) (3.2.2)\n",
            "Requirement already satisfied: networkx>=2.0 in /usr/local/lib/python3.7/dist-packages (from scikit-image->efficientnet==1.0.0->segmentation-models) (2.6.3)\n",
            "Requirement already satisfied: PyWavelets>=1.1.1 in /usr/local/lib/python3.7/dist-packages (from scikit-image->efficientnet==1.0.0->segmentation-models) (1.3.0)\n",
            "Requirement already satisfied: scipy>=1.0.1 in /usr/local/lib/python3.7/dist-packages (from scikit-image->efficientnet==1.0.0->segmentation-models) (1.4.1)\n",
            "Requirement already satisfied: kiwisolver>=1.0.1 in /usr/local/lib/python3.7/dist-packages (from matplotlib!=3.0.0,>=2.0.0->scikit-image->efficientnet==1.0.0->segmentation-models) (1.4.3)\n",
            "Requirement already satisfied: pyparsing!=2.0.4,!=2.1.2,!=2.1.6,>=2.0.1 in /usr/local/lib/python3.7/dist-packages (from matplotlib!=3.0.0,>=2.0.0->scikit-image->efficientnet==1.0.0->segmentation-models) (3.0.9)\n",
            "Requirement already satisfied: cycler>=0.10 in /usr/local/lib/python3.7/dist-packages (from matplotlib!=3.0.0,>=2.0.0->scikit-image->efficientnet==1.0.0->segmentation-models) (0.11.0)\n",
            "Requirement already satisfied: python-dateutil>=2.1 in /usr/local/lib/python3.7/dist-packages (from matplotlib!=3.0.0,>=2.0.0->scikit-image->efficientnet==1.0.0->segmentation-models) (2.8.2)\n",
            "Requirement already satisfied: typing-extensions in /usr/local/lib/python3.7/dist-packages (from kiwisolver>=1.0.1->matplotlib!=3.0.0,>=2.0.0->scikit-image->efficientnet==1.0.0->segmentation-models) (4.1.1)\n",
            "Requirement already satisfied: six>=1.5 in /usr/local/lib/python3.7/dist-packages (from python-dateutil>=2.1->matplotlib!=3.0.0,>=2.0.0->scikit-image->efficientnet==1.0.0->segmentation-models) (1.15.0)\n"
          ]
        }
      ],
      "source": [
        "pip install segmentation-models"
      ]
    },
    {
      "cell_type": "code",
      "execution_count": null,
      "metadata": {
        "id": "aAAp3rWGv3gn",
        "colab": {
          "base_uri": "https://localhost:8080/"
        },
        "outputId": "bf219d95-a445-474a-d167-50e7645d62e5"
      },
      "outputs": [
        {
          "output_type": "stream",
          "name": "stdout",
          "text": [
            "Looking in indexes: https://pypi.org/simple, https://us-python.pkg.dev/colab-wheels/public/simple/\n",
            "Requirement already satisfied: pyyaml in /usr/local/lib/python3.7/dist-packages (3.13)\n",
            "Requirement already satisfied: h5py in /usr/local/lib/python3.7/dist-packages (3.1.0)\n",
            "Requirement already satisfied: numpy>=1.14.5 in /usr/local/lib/python3.7/dist-packages (from h5py) (1.21.6)\n",
            "Requirement already satisfied: cached-property in /usr/local/lib/python3.7/dist-packages (from h5py) (1.5.2)\n"
          ]
        }
      ],
      "source": [
        "!pip install pyyaml h5py"
      ]
    },
    {
      "cell_type": "code",
      "execution_count": null,
      "metadata": {
        "id": "8RwLwHfG0nR3"
      },
      "outputs": [],
      "source": [
        "import tensorflow\n",
        "import matplotlib.pyplot as plt\n",
        "from PIL import Image\n",
        "import glob\n",
        "from tensorflow.keras import backend as K\n",
        "import cv2\n",
        "\n",
        "import os\n",
        "import random\n",
        "import numpy as np\n",
        "from skimage.io import imread, imshow\n",
        "from skimage.transform import resize\n",
        "from keras.callbacks import ModelCheckpoint, EarlyStopping, CSVLogger\n",
        "from google.colab.patches import cv2_imshow"
      ]
    },
    {
      "cell_type": "code",
      "execution_count": null,
      "metadata": {
        "id": "2yhObGN9jJEq"
      },
      "outputs": [],
      "source": [
        "path = glob.glob(\"/content/drive/MyDrive/img600x256X256/*.png\")\n",
        "path.sort()"
      ]
    },
    {
      "cell_type": "code",
      "execution_count": null,
      "metadata": {
        "id": "AwD5RFAqjegp"
      },
      "outputs": [],
      "source": [
        "train_images = []\n",
        "\n",
        "\n",
        "for img_path in path:\n",
        "  img = cv2.imread(img_path,0)\n",
        "  img = cv2.resize(img, (256, 256),interpolation = cv2.INTER_NEAREST)\n",
        "  train_images.append(img)"
      ]
    },
    {
      "cell_type": "code",
      "source": [
        "np.shape(train_images)"
      ],
      "metadata": {
        "colab": {
          "base_uri": "https://localhost:8080/"
        },
        "id": "LzmrHGGJ0tf4",
        "outputId": "99881afb-3d3e-4489-c4b7-b8912f266e4e"
      },
      "execution_count": null,
      "outputs": [
        {
          "output_type": "execute_result",
          "data": {
            "text/plain": [
              "(600, 256, 256)"
            ]
          },
          "metadata": {},
          "execution_count": 7
        }
      ]
    },
    {
      "cell_type": "code",
      "source": [
        "cv2_imshow(train_images[0])"
      ],
      "metadata": {
        "colab": {
          "base_uri": "https://localhost:8080/",
          "height": 273
        },
        "id": "4vu8g4FA01mA",
        "outputId": "b2988a1b-9479-4c5d-c397-2078beef84e9"
      },
      "execution_count": null,
      "outputs": [
        {
          "output_type": "display_data",
          "data": {
            "text/plain": [
              "<PIL.Image.Image image mode=L size=256x256 at 0x7F46626383D0>"
            ],
            "image/png": "[encoded data removed]"
          },
          "metadata": {}
        }
      ]
    },
    {
      "cell_type": "code",
      "execution_count": null,
      "metadata": {
        "id": "dLmIQWHsljr-"
      },
      "outputs": [],
      "source": [
        "path1 = glob.glob(\"/content/drive/MyDrive/anno256x256/*.png\")\n",
        "path1.sort()"
      ]
    },
    {
      "cell_type": "code",
      "source": [
        "print(len(path1))"
      ],
      "metadata": {
        "colab": {
          "base_uri": "https://localhost:8080/"
        },
        "id": "z_ja_4Zm1CYk",
        "outputId": "8c466fff-033b-409c-c14a-a184b2cf6074"
      },
      "execution_count": null,
      "outputs": [
        {
          "output_type": "stream",
          "name": "stdout",
          "text": [
            "600\n"
          ]
        }
      ]
    },
    {
      "cell_type": "code",
      "execution_count": null,
      "metadata": {
        "id": "2u4eMJyil6M4"
      },
      "outputs": [],
      "source": [
        "train_masks = []\n",
        "for img_path1 in path1:\n",
        "  mask = cv2.imread(img_path1,0)\n",
        "  mask = cv2.resize(mask, (256, 256), interpolation = cv2.INTER_NEAREST)  #Otherwise ground truth changes due to interpolation\n",
        "  train_masks.append(mask)"
      ]
    },
    {
      "cell_type": "code",
      "source": [
        "np.shape(train_masks)"
      ],
      "metadata": {
        "colab": {
          "base_uri": "https://localhost:8080/"
        },
        "id": "hwMbH5f3FyRh",
        "outputId": "f7940db5-d721-4e5c-c734-42732d0c9e0a"
      },
      "execution_count": null,
      "outputs": [
        {
          "output_type": "execute_result",
          "data": {
            "text/plain": [
              "(600, 256, 256)"
            ]
          },
          "metadata": {},
          "execution_count": 12
        }
      ]
    },
    {
      "cell_type": "code",
      "source": [
        "cv2_imshow(train_masks[0])"
      ],
      "metadata": {
        "colab": {
          "base_uri": "https://localhost:8080/",
          "height": 273
        },
        "id": "zbnAcuDAPctw",
        "outputId": "c36be858-110c-4dd3-bfa3-2f94e4c6d577"
      },
      "execution_count": null,
      "outputs": [
        {
          "output_type": "display_data",
          "data": {
            "text/plain": [
              "<PIL.Image.Image image mode=L size=256x256 at 0x7F633E744050>"
            ],
            "image/png": "[encoded data removed]"
          },
          "metadata": {}
        }
      ]
    },
    {
      "cell_type": "code",
      "source": [],
      "metadata": {
        "id": "rfBYp4pJoard"
      },
      "execution_count": null,
      "outputs": []
    },
    {
      "cell_type": "code",
      "execution_count": null,
      "metadata": {
        "colab": {
          "base_uri": "https://localhost:8080/"
        },
        "id": "2R5qHVKdMv3A",
        "outputId": "30542321-db76-40f3-e1f3-b502518add3b"
      },
      "outputs": [
        {
          "output_type": "execute_result",
          "data": {
            "text/plain": [
              "(600, 256, 256)"
            ]
          },
          "metadata": {},
          "execution_count": 10
        }
      ],
      "source": [
        "# train_masks = np.expand_dims(train_masks, axis=3)\n",
        "np.shape(train_masks)"
      ]
    },
    {
      "cell_type": "code",
      "execution_count": null,
      "metadata": {
        "colab": {
          "base_uri": "https://localhost:8080/"
        },
        "id": "k6BzaX6Ouoe5",
        "outputId": "72903c3a-e0d2-4fb6-ac16-2472d356899d"
      },
      "outputs": [
        {
          "output_type": "execute_result",
          "data": {
            "text/plain": [
              "array([  0,  29, 149], dtype=uint8)"
            ]
          },
          "metadata": {},
          "execution_count": 11
        }
      ],
      "source": [
        "n_classes = 3\n",
        "train_images = np.array(train_images)\n",
        "\n",
        "train_masks = np.array(train_masks)\n",
        "np.unique(train_masks)"
      ]
    },
    {
      "cell_type": "code",
      "execution_count": null,
      "metadata": {
        "colab": {
          "base_uri": "https://localhost:8080/"
        },
        "id": "dS9Lxr-Mys_d",
        "outputId": "561ed69c-cc40-47e5-a82f-5dd1f4ec50f4"
      },
      "outputs": [
        {
          "output_type": "stream",
          "name": "stderr",
          "text": [
            "/usr/local/lib/python3.7/dist-packages/sklearn/preprocessing/_label.py:115: DataConversionWarning: A column-vector y was passed when a 1d array was expected. Please change the shape of y to (n_samples, ), for example using ravel().\n",
            "  y = column_or_1d(y, warn=True)\n"
          ]
        },
        {
          "output_type": "execute_result",
          "data": {
            "text/plain": [
              "array([0, 1, 2])"
            ]
          },
          "metadata": {},
          "execution_count": 12
        }
      ],
      "source": [
        "\n",
        "#Encode labels... but multi dim array so need to flatten, encode and reshape\n",
        "from sklearn.preprocessing import LabelEncoder\n",
        "labelencoder = LabelEncoder()\n",
        "n, h, w = train_masks.shape\n",
        "train_masks_reshaped = train_masks.reshape(-1,1)\n",
        "train_masks_reshaped_encoded = labelencoder.fit_transform(train_masks_reshaped)\n",
        "train_masks_encoded_original_shape = train_masks_reshaped_encoded.reshape(n, h, w)\n",
        "\n",
        "np.unique(train_masks_encoded_original_shape)"
      ]
    },
    {
      "cell_type": "code",
      "execution_count": null,
      "metadata": {
        "colab": {
          "base_uri": "https://localhost:8080/"
        },
        "id": "5q7RxiBC0nPS",
        "outputId": "4602f203-0259-4c20-8199-78a4e887757d"
      },
      "outputs": [
        {
          "output_type": "stream",
          "name": "stdout",
          "text": [
            "Class values in the dataset are ...  [0 1 2]\n",
            "Class weights are...: [ 0.36058614  5.67928291 19.73984822]\n"
          ]
        }
      ],
      "source": [
        "\n",
        "#################################################\n",
        "train_images = np.expand_dims(train_images, axis=3)\n",
        "train_images = tensorflow.keras.utils.normalize(train_images, axis=1)\n",
        "train_masks_input = np.expand_dims(train_masks_encoded_original_shape, axis=3)\n",
        "\n",
        "#Create a subset of data for quick testing\n",
        "#Picking 10% for testing and remaining for training\n",
        "from sklearn.model_selection import train_test_split\n",
        "X1, X_test, y1, y_test = train_test_split(train_images, train_masks_input, test_size = 0.10, random_state = 0)\n",
        "\n",
        "#Further split training data to smaller subset for quick testing of models\n",
        "X_train, X_val, y_train, y_val = train_test_split(X1, y1, test_size = 0.20, random_state = 0)\n",
        "\n",
        "print(\"Class values in the dataset are ... \", np.unique(y_train))  # 0 is the background/few unlabeled\n",
        "\n",
        "# from sklearn.utils import to_categorical\n",
        "import tensorflow as tf\n",
        "\n",
        "train_masks_cat = tf.keras.utils.to_categorical (y_train, num_classes=n_classes)\n",
        "y_train_cat = train_masks_cat.reshape(y_train.shape[0], y_train.shape[1], y_train.shape[2], n_classes)\n",
        "\n",
        "val_masks_cat = tf.keras.utils.to_categorical (y_val, num_classes=n_classes)\n",
        "y_val_cat = val_masks_cat.reshape((y_val.shape[0], y_val.shape[1], y_val.shape[2], n_classes))\n",
        "\n",
        "\n",
        "\n",
        "# test_masks_cat = tf.keras.utils.to_categorical (y_test, num_classes=n_classes)\n",
        "# y_test_cat = test_masks_cat.reshape((y_test.shape[0], y_test.shape[1], y_test.shape[2], n_classes))\n",
        "\n",
        "from sklearn.utils import class_weight\n",
        "class_weights = class_weight.compute_class_weight(class_weight='balanced',\n",
        "                                                 classes = np.unique(train_masks_reshaped_encoded),\n",
        "                                                 y = train_masks_reshaped_encoded)\n",
        "print(\"Class weights are...:\", class_weights)\n",
        "\n"
      ]
    },
    {
      "cell_type": "code",
      "source": [
        "np.unique(y_train[0])"
      ],
      "metadata": {
        "colab": {
          "base_uri": "https://localhost:8080/"
        },
        "id": "ayEL_4LtjfOq",
        "outputId": "1033bd0f-6441-4d82-f962-2d9c3b234006"
      },
      "execution_count": null,
      "outputs": [
        {
          "output_type": "execute_result",
          "data": {
            "text/plain": [
              "array([0, 1, 2])"
            ]
          },
          "metadata": {},
          "execution_count": 15
        }
      ]
    },
    {
      "cell_type": "code",
      "source": [
        "train_masks_cat"
      ],
      "metadata": {
        "id": "jLA7J33uJLU8"
      },
      "execution_count": null,
      "outputs": []
    },
    {
      "cell_type": "code",
      "source": [
        "np.shape(y_val_cat)"
      ],
      "metadata": {
        "id": "ohncxfwQI7vj"
      },
      "execution_count": null,
      "outputs": []
    },
    {
      "cell_type": "code",
      "source": [
        "np.unique(y_val_cat)"
      ],
      "metadata": {
        "colab": {
          "base_uri": "https://localhost:8080/"
        },
        "id": "f4cUBZiLI7st",
        "outputId": "cebf256e-e323-45c3-cac5-29b83f4f7471"
      },
      "execution_count": null,
      "outputs": [
        {
          "output_type": "execute_result",
          "data": {
            "text/plain": [
              "array([0., 1.], dtype=float32)"
            ]
          },
          "metadata": {},
          "execution_count": 22
        }
      ]
    },
    {
      "cell_type": "code",
      "source": [
        "np.shape(y_train_cat)"
      ],
      "metadata": {
        "colab": {
          "base_uri": "https://localhost:8080/"
        },
        "id": "FcOOFmcTIdqm",
        "outputId": "4f5955ac-8a90-4de4-bd19-278af3526b87"
      },
      "execution_count": null,
      "outputs": [
        {
          "output_type": "execute_result",
          "data": {
            "text/plain": [
              "(432, 256, 256, 3)"
            ]
          },
          "metadata": {},
          "execution_count": 23
        }
      ]
    },
    {
      "cell_type": "code",
      "source": [
        "np.shape(y_train)"
      ],
      "metadata": {
        "colab": {
          "base_uri": "https://localhost:8080/"
        },
        "id": "kobB4psHIWOv",
        "outputId": "472e69d9-7535-4202-c80c-e497c0e57a08"
      },
      "execution_count": null,
      "outputs": [
        {
          "output_type": "execute_result",
          "data": {
            "text/plain": [
              "(432, 256, 256, 1)"
            ]
          },
          "metadata": {},
          "execution_count": 24
        }
      ]
    },
    {
      "cell_type": "code",
      "source": [
        "np.shape(train_masks_cat)"
      ],
      "metadata": {
        "colab": {
          "base_uri": "https://localhost:8080/"
        },
        "id": "U9Wq3dmMICsT",
        "outputId": "0218480c-3218-4fda-acbb-902cb1d9ba75"
      },
      "execution_count": null,
      "outputs": [
        {
          "output_type": "execute_result",
          "data": {
            "text/plain": [
              "(432, 256, 256, 3)"
            ]
          },
          "metadata": {},
          "execution_count": 25
        }
      ]
    },
    {
      "cell_type": "code",
      "source": [
        "np.shape(train_images)"
      ],
      "metadata": {
        "colab": {
          "base_uri": "https://localhost:8080/"
        },
        "id": "tsk-LCuZHviA",
        "outputId": "71620ad2-8547-4a7e-e1c3-97b2f48823ea"
      },
      "execution_count": null,
      "outputs": [
        {
          "output_type": "execute_result",
          "data": {
            "text/plain": [
              "(600, 256, 256, 1)"
            ]
          },
          "metadata": {},
          "execution_count": 26
        }
      ]
    },
    {
      "cell_type": "code",
      "source": [
        "np.unique(train_masks_input)"
      ],
      "metadata": {
        "colab": {
          "base_uri": "https://localhost:8080/"
        },
        "id": "XOGQF4mIG0Bh",
        "outputId": "bb066d88-2dd9-4683-ef98-46cb88e4225f"
      },
      "execution_count": null,
      "outputs": [
        {
          "output_type": "execute_result",
          "data": {
            "text/plain": [
              "array([0, 1, 2])"
            ]
          },
          "metadata": {},
          "execution_count": 27
        }
      ]
    },
    {
      "cell_type": "code",
      "source": [
        "np.shape(y1)"
      ],
      "metadata": {
        "colab": {
          "base_uri": "https://localhost:8080/"
        },
        "id": "dW8b3XpTHhN1",
        "outputId": "ed288e41-57f0-4cb9-ccc4-605ca97f5c0d"
      },
      "execution_count": null,
      "outputs": [
        {
          "output_type": "execute_result",
          "data": {
            "text/plain": [
              "(540, 256, 256, 1)"
            ]
          },
          "metadata": {},
          "execution_count": 28
        }
      ]
    },
    {
      "cell_type": "code",
      "source": [
        "np.unique(y1)"
      ],
      "metadata": {
        "colab": {
          "base_uri": "https://localhost:8080/"
        },
        "id": "ws2PqK38HSIK",
        "outputId": "b4529b6a-126e-41ad-8f83-adf334bd81c6"
      },
      "execution_count": null,
      "outputs": [
        {
          "output_type": "execute_result",
          "data": {
            "text/plain": [
              "array([0, 1, 2])"
            ]
          },
          "metadata": {},
          "execution_count": 29
        }
      ]
    },
    {
      "cell_type": "code",
      "source": [
        "np.unique(y_val)"
      ],
      "metadata": {
        "colab": {
          "base_uri": "https://localhost:8080/"
        },
        "id": "yaNHxgTRHatG",
        "outputId": "958d481a-411a-4bed-a034-938e9b385eae"
      },
      "execution_count": null,
      "outputs": [
        {
          "output_type": "execute_result",
          "data": {
            "text/plain": [
              "array([0, 1, 2])"
            ]
          },
          "metadata": {},
          "execution_count": 30
        }
      ]
    },
    {
      "cell_type": "code",
      "source": [
        "np.shape(y_val)"
      ],
      "metadata": {
        "colab": {
          "base_uri": "https://localhost:8080/"
        },
        "id": "snRa2VFdHkW_",
        "outputId": "e5466684-e478-4d23-e7fe-4cbfa6af567f"
      },
      "execution_count": null,
      "outputs": [
        {
          "output_type": "execute_result",
          "data": {
            "text/plain": [
              "(108, 256, 256, 1)"
            ]
          },
          "metadata": {},
          "execution_count": 31
        }
      ]
    },
    {
      "cell_type": "code",
      "source": [
        "np.shape(y_train_cat)"
      ],
      "metadata": {
        "colab": {
          "base_uri": "https://localhost:8080/"
        },
        "id": "s8CbI_V3GWDT",
        "outputId": "3132089b-ca47-4e9b-c941-482eb4df28ba"
      },
      "execution_count": null,
      "outputs": [
        {
          "output_type": "execute_result",
          "data": {
            "text/plain": [
              "(432, 256, 256, 3)"
            ]
          },
          "metadata": {},
          "execution_count": 32
        }
      ]
    },
    {
      "cell_type": "code",
      "source": [
        "np.unique(y_val_cat)"
      ],
      "metadata": {
        "colab": {
          "base_uri": "https://localhost:8080/"
        },
        "id": "7WqcLESaGbXp",
        "outputId": "f8857697-78dd-4b45-9a4b-9f741ecb953e"
      },
      "execution_count": null,
      "outputs": [
        {
          "output_type": "execute_result",
          "data": {
            "text/plain": [
              "array([0., 1.], dtype=float32)"
            ]
          },
          "metadata": {},
          "execution_count": 33
        }
      ]
    },
    {
      "cell_type": "code",
      "execution_count": null,
      "metadata": {
        "id": "DslM0dT8v3d1"
      },
      "outputs": [],
      "source": [
        "import tensorflow as tf\n",
        "from tensorflow.keras import models, layers, regularizers\n",
        "from tensorflow.keras import backend as K\n",
        "\n",
        "\n",
        "\n",
        "'''\n",
        "A few useful metrics and losses\n",
        "'''\n",
        "\n",
        "def dice_coef(y_true, y_pred):\n",
        "    y_true_f = K.flatten(y_true)\n",
        "    y_pred_f = K.flatten(y_pred)\n",
        "    intersection = K.sum(y_true_f * y_pred_f)\n",
        "    return (2.0 * intersection + 1.0) / (K.sum(y_true_f) + K.sum(y_pred_f) + 1.0)\n",
        "\n",
        "\n",
        "def jacard_coef(y_true, y_pred):\n",
        "    y_true_f = K.flatten(y_true)\n",
        "    y_pred_f = K.flatten(y_pred)\n",
        "    intersection = K.sum(y_true_f * y_pred_f)\n",
        "    return (intersection + 1.0) / (K.sum(y_true_f) + K.sum(y_pred_f) - intersection + 1.0)\n",
        "\n",
        "\n",
        "def jacard_coef_loss(y_true, y_pred):\n",
        "    return -jacard_coef(y_true, y_pred)\n",
        "\n",
        "\n",
        "def dice_coef_loss(y_true, y_pred):\n",
        "    return -dice_coef(y_true, y_pred)\n",
        "\n"
      ]
    },
    {
      "cell_type": "code",
      "source": [
        "\n",
        "\n",
        "from keras.models import Model\n",
        "from keras.layers import Input, Conv2D, MaxPooling2D, UpSampling2D, concatenate, Conv2DTranspose, BatchNormalization, Dropout, Lambda\n",
        "\n",
        "\n",
        "\n",
        "\n",
        "################################################################\n",
        "def multi_unet_model(n_classes=3, IMG_HEIGHT=256, IMG_WIDTH=256, IMG_CHANNELS=1):\n",
        "#Build the model\n",
        "    inputs = Input((IMG_HEIGHT, IMG_WIDTH, IMG_CHANNELS))\n",
        "    #s = Lambda(lambda x: x / 255)(inputs)   #No need for this if we normalize our inputs beforehand\n",
        "    s = inputs\n",
        "\n",
        "    #Contraction path\n",
        "    c1 = Conv2D(16, (3, 3), activation='relu', kernel_initializer='he_normal', padding='same')(s)\n",
        "    c1 = Dropout(0.8)(c1)\n",
        "    c1 = Conv2D(16, (3, 3), activation='relu', kernel_initializer='he_normal', padding='same')(c1)\n",
        "    p1 = MaxPooling2D((2, 2))(c1)\n",
        "\n",
        "    c2 = Conv2D(32, (3, 3), activation='relu', kernel_initializer='he_normal', padding='same')(p1)\n",
        "    c2 = Dropout(0.8)(c2)\n",
        "    c2 = Conv2D(32, (3, 3), activation='relu', kernel_initializer='he_normal', padding='same')(c2)\n",
        "    p2 = MaxPooling2D((2, 2))(c2)\n",
        "\n",
        "    c3 = Conv2D(64, (3, 3), activation='relu', kernel_initializer='he_normal', padding='same')(p2)\n",
        "    c3 = Dropout(0.8)(c3)\n",
        "    c3 = Conv2D(64, (3, 3), activation='relu', kernel_initializer='he_normal', padding='same')(c3)\n",
        "    p3 = MaxPooling2D((2, 2))(c3)\n",
        "\n",
        "    c4 = Conv2D(128, (3, 3), activation='relu', kernel_initializer='he_normal', padding='same')(p3)\n",
        "    c4 = Dropout(0.8)(c4)\n",
        "    c4 = Conv2D(128, (3, 3), activation='relu', kernel_initializer='he_normal', padding='same')(c4)\n",
        "    p4 = MaxPooling2D(pool_size=(2, 2))(c4)\n",
        "\n",
        "    c5 = Conv2D(256, (3, 3), activation='relu', kernel_initializer='he_normal', padding='same')(p4)\n",
        "    c5 = Dropout(0.8)(c5)\n",
        "    c5 = Conv2D(256, (3, 3), activation='relu', kernel_initializer='he_normal', padding='same')(c5)\n",
        "\n",
        "    #Expansive path\n",
        "    u6 = Conv2DTranspose(128, (2, 2), strides=(2, 2), padding='same')(c5)\n",
        "    u6 = concatenate([u6, c4])\n",
        "    c6 = Conv2D(128, (3, 3), activation='relu', kernel_initializer='he_normal', padding='same')(u6)\n",
        "    c6 = Dropout(0.8)(c6)\n",
        "    c6 = Conv2D(128, (3, 3), activation='relu', kernel_initializer='he_normal', padding='same')(c6)\n",
        "\n",
        "    u7 = Conv2DTranspose(64, (2, 2), strides=(2, 2), padding='same')(c6)\n",
        "    u7 = concatenate([u7, c3])\n",
        "    c7 = Conv2D(64, (3, 3), activation='relu', kernel_initializer='he_normal', padding='same')(u7)\n",
        "    c7 = Dropout(0.8)(c7)\n",
        "    c7 = Conv2D(64, (3, 3), activation='relu', kernel_initializer='he_normal', padding='same')(c7)\n",
        "\n",
        "    u8 = Conv2DTranspose(32, (2, 2), strides=(2, 2), padding='same')(c7)\n",
        "    u8 = concatenate([u8, c2])\n",
        "    c8 = Conv2D(32, (3, 3), activation='relu', kernel_initializer='he_normal', padding='same')(u8)\n",
        "    c8 = Dropout(0.8)(c8)\n",
        "    c8 = Conv2D(32, (3, 3), activation='relu', kernel_initializer='he_normal', padding='same')(c8)\n",
        "\n",
        "    u9 = Conv2DTranspose(16, (2, 2), strides=(2, 2), padding='same')(c8)\n",
        "    u9 = concatenate([u9, c1], axis=3)\n",
        "    c9 = Conv2D(16, (3, 3), activation='relu', kernel_initializer='he_normal', padding='same')(u9)\n",
        "    c9 = Dropout(0.8)(c9)\n",
        "    c9 = Conv2D(16, (3, 3), activation='relu', kernel_initializer='he_normal', padding='same')(c9)\n",
        "\n",
        "    outputs = Conv2D(n_classes, (1, 1), activation='softmax')(c9)\n",
        "\n",
        "    model = Model(inputs=[inputs], outputs=[outputs])\n",
        "\n",
        "    #NOTE: Compile the model in the main program to make it easy to test with various loss functions\n",
        "    #model.compile(optimizer='adam', loss='binary_crossentropy', metrics=['accuracy'])\n",
        "\n",
        "    #model.summary()\n",
        "\n",
        "    return model\n"
      ],
      "metadata": {
        "id": "y7NX8o2Tk6MK"
      },
      "execution_count": null,
      "outputs": []
    },
    {
      "cell_type": "code",
      "source": [
        "\n",
        "IMG_HEIGHT = 256\n",
        "IMG_WIDTH = 256\n",
        "IMG_CHANNELS = 1\n",
        "input_shape = (IMG_HEIGHT,IMG_WIDTH,IMG_CHANNELS)"
      ],
      "metadata": {
        "id": "8sgQxQAkljUw"
      },
      "execution_count": null,
      "outputs": []
    },
    {
      "cell_type": "code",
      "source": [
        "def get_model():\n",
        "  return multi_unet_model(n_classes= n_classes,IMG_HEIGHT=IMG_HEIGHT,IMG_WIDTH=IMG_WIDTH,IMG_CHANNELS=IMG_CHANNELS)"
      ],
      "metadata": {
        "id": "93sb1ZSZlH6R"
      },
      "execution_count": null,
      "outputs": []
    },
    {
      "cell_type": "code",
      "source": [
        "model = get_model()\n"
      ],
      "metadata": {
        "id": "2Xe-mMIflHtz"
      },
      "execution_count": null,
      "outputs": []
    },
    {
      "cell_type": "code",
      "source": [
        "import segmentation_models as sm\n",
        "loss_fun = sm.losses.CategoricalFocalLoss(alpha=0.25, gamma=2.0, class_indexes=None)"
      ],
      "metadata": {
        "colab": {
          "base_uri": "https://localhost:8080/"
        },
        "id": "rYncObAYoiEw",
        "outputId": "d9159bfb-4780-41a0-fc5c-42ff169813ba"
      },
      "execution_count": null,
      "outputs": [
        {
          "output_type": "stream",
          "name": "stdout",
          "text": [
            "Segmentation Models: using `keras` framework.\n"
          ]
        }
      ]
    },
    {
      "cell_type": "code",
      "source": [
        "iou_score = sm.metrics.IOUScore()\n",
        "Fscore = sm.metrics.FScore()"
      ],
      "metadata": {
        "id": "x22HqFIqNHGa"
      },
      "execution_count": null,
      "outputs": []
    },
    {
      "cell_type": "code",
      "source": [
        "model.compile(optimizer='adam',loss = sm.losses.CategoricalFocalLoss(alpha=0.25, gamma=2.0, class_indexes=None),metrics =[iou_score,Fscore] )"
      ],
      "metadata": {
        "id": "GzEYgTohmN8L"
      },
      "execution_count": null,
      "outputs": []
    },
    {
      "cell_type": "code",
      "source": [
        "model.summary()"
      ],
      "metadata": {
        "id": "4DWMS70pnQBB"
      },
      "execution_count": null,
      "outputs": []
    },
    {
      "cell_type": "code",
      "source": [
        "history = model.fit (X_train,y_train_cat,\n",
        "                     batch_size = 32,\n",
        "                     verbose = 1,\n",
        "                     epochs = 200,\n",
        "                     validation_data= (X_val,y_val_cat),\n",
        "                     shuffle = False)"
      ],
      "metadata": {
        "id": "GcJfmvCmnb0S",
        "colab": {
          "base_uri": "https://localhost:8080/"
        },
        "outputId": "5045a92a-1e52-4815-baf8-b8ae9c74d42c"
      },
      "execution_count": null,
      "outputs": [
        {
          "output_type": "stream",
          "name": "stdout",
          "text": [
            "14/14 [==============================] - 5s 330ms/step - loss: 0.0059 - iou_score: 0.3382 - f1-score: 0.4165 - val_loss: 0.0074 - val_iou_score: 0.3349 - val_f1-score: 0.4125\n",
            "Epoch 174/200\n",
            "14/14 [==============================] - 5s 331ms/step - loss: 0.0059 - iou_score: 0.3366 - f1-score: 0.4150 - val_loss: 0.0075 - val_iou_score: 0.3371 - val_f1-score: 0.4144\n",
            "Epoch 175/200\n",
            "14/14 [==============================] - 5s 354ms/step - loss: 0.0059 - iou_score: 0.3368 - f1-score: 0.4151 - val_loss: 0.0075 - val_iou_score: 0.3376 - val_f1-score: 0.4144\n",
            "Epoch 176/200\n",
            "14/14 [==============================] - 5s 354ms/step - loss: 0.0059 - iou_score: 0.3381 - f1-score: 0.4164 - val_loss: 0.0075 - val_iou_score: 0.3387 - val_f1-score: 0.4164\n",
            "Epoch 177/200\n",
            "14/14 [==============================] - 5s 331ms/step - loss: 0.0059 - iou_score: 0.3374 - f1-score: 0.4160 - val_loss: 0.0075 - val_iou_score: 0.3395 - val_f1-score: 0.4172\n",
            "Epoch 178/200\n",
            "14/14 [==============================] - 5s 332ms/step - loss: 0.0059 - iou_score: 0.3377 - f1-score: 0.4160 - val_loss: 0.0076 - val_iou_score: 0.3388 - val_f1-score: 0.4163\n",
            "Epoch 179/200\n",
            "14/14 [==============================] - 5s 332ms/step - loss: 0.0058 - iou_score: 0.3378 - f1-score: 0.4164 - val_loss: 0.0075 - val_iou_score: 0.3416 - val_f1-score: 0.4191\n",
            "Epoch 180/200\n",
            "14/14 [==============================] - 5s 333ms/step - loss: 0.0059 - iou_score: 0.3383 - f1-score: 0.4167 - val_loss: 0.0071 - val_iou_score: 0.3341 - val_f1-score: 0.4123\n",
            "Epoch 181/200\n",
            "14/14 [==============================] - 5s 357ms/step - loss: 0.0059 - iou_score: 0.3373 - f1-score: 0.4156 - val_loss: 0.0074 - val_iou_score: 0.3390 - val_f1-score: 0.4168\n",
            "Epoch 182/200\n",
            "14/14 [==============================] - 5s 340ms/step - loss: 0.0059 - iou_score: 0.3379 - f1-score: 0.4165 - val_loss: 0.0074 - val_iou_score: 0.3388 - val_f1-score: 0.4169\n",
            "Epoch 183/200\n",
            "14/14 [==============================] - 5s 362ms/step - loss: 0.0058 - iou_score: 0.3392 - f1-score: 0.4178 - val_loss: 0.0077 - val_iou_score: 0.3412 - val_f1-score: 0.4184\n",
            "Epoch 184/200\n",
            "14/14 [==============================] - 5s 333ms/step - loss: 0.0058 - iou_score: 0.3382 - f1-score: 0.4169 - val_loss: 0.0071 - val_iou_score: 0.3382 - val_f1-score: 0.4169\n",
            "Epoch 185/200\n",
            "14/14 [==============================] - 5s 334ms/step - loss: 0.0058 - iou_score: 0.3391 - f1-score: 0.4177 - val_loss: 0.0072 - val_iou_score: 0.3367 - val_f1-score: 0.4145\n",
            "Epoch 186/200\n",
            "14/14 [==============================] - 5s 331ms/step - loss: 0.0058 - iou_score: 0.3388 - f1-score: 0.4173 - val_loss: 0.0071 - val_iou_score: 0.3384 - val_f1-score: 0.4168\n",
            "Epoch 187/200\n",
            "14/14 [==============================] - 5s 334ms/step - loss: 0.0059 - iou_score: 0.3383 - f1-score: 0.4170 - val_loss: 0.0071 - val_iou_score: 0.3351 - val_f1-score: 0.4140\n",
            "Epoch 188/200\n",
            "14/14 [==============================] - 5s 337ms/step - loss: 0.0058 - iou_score: 0.3386 - f1-score: 0.4171 - val_loss: 0.0073 - val_iou_score: 0.3398 - val_f1-score: 0.4176\n",
            "Epoch 189/200\n",
            "14/14 [==============================] - 5s 330ms/step - loss: 0.0058 - iou_score: 0.3378 - f1-score: 0.4165 - val_loss: 0.0071 - val_iou_score: 0.3390 - val_f1-score: 0.4176\n",
            "Epoch 190/200\n",
            "14/14 [==============================] - 5s 331ms/step - loss: 0.0058 - iou_score: 0.3400 - f1-score: 0.4185 - val_loss: 0.0073 - val_iou_score: 0.3395 - val_f1-score: 0.4175\n",
            "Epoch 191/200\n",
            "14/14 [==============================] - 5s 332ms/step - loss: 0.0058 - iou_score: 0.3384 - f1-score: 0.4170 - val_loss: 0.0073 - val_iou_score: 0.3421 - val_f1-score: 0.4199\n",
            "Epoch 192/200\n",
            "14/14 [==============================] - 5s 331ms/step - loss: 0.0058 - iou_score: 0.3404 - f1-score: 0.4190 - val_loss: 0.0073 - val_iou_score: 0.3417 - val_f1-score: 0.4198\n",
            "Epoch 193/200\n",
            "14/14 [==============================] - 5s 333ms/step - loss: 0.0058 - iou_score: 0.3390 - f1-score: 0.4176 - val_loss: 0.0071 - val_iou_score: 0.3379 - val_f1-score: 0.4162\n",
            "Epoch 194/200\n",
            "14/14 [==============================] - 5s 331ms/step - loss: 0.0058 - iou_score: 0.3390 - f1-score: 0.4179 - val_loss: 0.0070 - val_iou_score: 0.3354 - val_f1-score: 0.4140\n",
            "Epoch 195/200\n",
            "14/14 [==============================] - 5s 353ms/step - loss: 0.0058 - iou_score: 0.3404 - f1-score: 0.4192 - val_loss: 0.0071 - val_iou_score: 0.3378 - val_f1-score: 0.4162\n",
            "Epoch 196/200\n",
            "14/14 [==============================] - 5s 356ms/step - loss: 0.0058 - iou_score: 0.3393 - f1-score: 0.4181 - val_loss: 0.0073 - val_iou_score: 0.3432 - val_f1-score: 0.4210\n",
            "Epoch 197/200\n",
            "14/14 [==============================] - 5s 355ms/step - loss: 0.0058 - iou_score: 0.3404 - f1-score: 0.4193 - val_loss: 0.0072 - val_iou_score: 0.3406 - val_f1-score: 0.4192\n",
            "Epoch 198/200\n",
            "14/14 [==============================] - 5s 331ms/step - loss: 0.0058 - iou_score: 0.3409 - f1-score: 0.4199 - val_loss: 0.0071 - val_iou_score: 0.3386 - val_f1-score: 0.4173\n",
            "Epoch 199/200\n",
            "14/14 [==============================] - 5s 331ms/step - loss: 0.0058 - iou_score: 0.3398 - f1-score: 0.4186 - val_loss: 0.0072 - val_iou_score: 0.3401 - val_f1-score: 0.4187\n",
            "Epoch 200/200\n",
            "14/14 [==============================] - 5s 331ms/step - loss: 0.0058 - iou_score: 0.3409 - f1-score: 0.4195 - val_loss: 0.0072 - val_iou_score: 0.3420 - val_f1-score: 0.4202\n"
          ]
        }
      ]
    },
    {
      "cell_type": "code",
      "source": [
        "from keras.utils.version_utils import ModelVersionSelector\n",
        "\n",
        "###\n",
        "#plot the training and validation accuracy and loss at each epoch\n",
        "loss = history.history['loss']\n",
        "val_loss = history.history['val_loss']\n",
        "epochs = range(1, len(loss) + 1)\n",
        "plt.plot(epochs, loss, 'y', label='Training loss')\n",
        "plt.plot(epochs, val_loss, 'r', label='Validation loss')\n",
        "plt.title('Training and validation loss')\n",
        "plt.xlabel('Epochs')\n",
        "plt.ylabel('Loss')\n",
        "plt.legend()\n",
        "plt.show()\n",
        "\n",
        "acc = history.history['f1-score']\n",
        "val_acc = history.history['val_f1-score']\n",
        "\n",
        "plt.plot(epochs, acc, 'y', label='Training Accuracy')\n",
        "plt.plot(epochs, val_acc, 'r', label='Validation Accuracy')\n",
        "plt.title('Training and validation Accuracy')\n",
        "plt.xlabel('Epochs')\n",
        "plt.ylabel('Accuracy')\n",
        "plt.legend()\n",
        "plt.show()\n",
        "\n",
        "\n",
        "\n",
        "acc = history.history['iou_score']\n",
        "val_acc =history.history['val_iou_score']\n",
        "\n",
        "plt.plot(epochs, acc, 'y', label='Training Accuracy')\n",
        "plt.plot(epochs, val_acc, 'r', label='Validation Accuracy')\n",
        "plt.title('Training and validation Accuracy')\n",
        "plt.xlabel('Epochs')\n",
        "plt.ylabel('Accuracy')\n",
        "plt.legend()\n",
        "plt.show()\n"
      ],
      "metadata": {
        "colab": {
          "base_uri": "https://localhost:8080/",
          "height": 851
        },
        "id": "b2WnDrJIqrCo",
        "outputId": "a21e1cea-8b07-4056-db82-103a48529001"
      },
      "execution_count": null,
      "outputs": [
        {
          "output_type": "display_data",
          "data": {
            "text/plain": [
              "<Figure size 432x288 with 1 Axes>"
            ],
            "image/png": "[encoded data removed]"
          },
          "metadata": {
            "needs_background": "light"
          }
        },
        {
          "output_type": "display_data",
          "data": {
            "text/plain": [
              "<Figure size 432x288 with 1 Axes>"
            ],
            "image/png": "[encoded data removed]"
          },
          "metadata": {
            "needs_background": "light"
          }
        },
        {
          "output_type": "display_data",
          "data": {
            "text/plain": [
              "<Figure size 432x288 with 1 Axes>"
            ],
            "image/png": "[encoded data removed]"
          },
          "metadata": {
            "needs_background": "light"
          }
        }
      ]
    },
    {
      "cell_type": "code",
      "source": [
        "import pickle\n",
        "\n",
        "# save:\n",
        "f = open('/content/drive/MyDrive/0_epoch_weights/epoch_200focal_loss_iouscore_dropout_0.8/history.pckl', 'wb')\n",
        "pickle.dump(history.history, f)\n",
        "f.close()\n",
        "\n",
        "# retrieve:\n",
        "f = open('/content/drive/MyDrive/0_epoch_weights/epoch_200focal_loss_iouscore_dropout_0.8/history.pckl', 'rb')\n",
        "history = pickle.load(f)\n",
        "f.close()"
      ],
      "metadata": {
        "id": "tNRQOAEgq1zu"
      },
      "execution_count": null,
      "outputs": []
    },
    {
      "cell_type": "code",
      "source": [
        "model.save('/content/drive/MyDrive/0_epoch_weights/epoch_200focal_loss_iouscore_dropout_0.8.h5')"
      ],
      "metadata": {
        "id": "izK8kV01nbxH"
      },
      "execution_count": null,
      "outputs": []
    },
    {
      "cell_type": "code",
      "source": [
        "from keras.models import load_model\n",
        "model1 = load_model('/content/drive/MyDrive/0_epoch_weights/epoch_100focal_loss_iouscore_dropout_random.h5',custom_objects={'focal_loss':loss_fun,\n",
        "                                                                                 'iou_score':sm.metrics.IOUScore(),\n",
        "                                                                                #  \"jacard_coef\":jacard_coef,\n",
        "                                                                                #  \"dice_coef\":dice_coef,\n",
        "                                                                                 'f1-score':sm.metrics.FScore()})\n"
      ],
      "metadata": {
        "id": "jJ3_yCJPnbqh"
      },
      "execution_count": null,
      "outputs": []
    },
    {
      "cell_type": "code",
      "source": [
        "model1"
      ],
      "metadata": {
        "colab": {
          "base_uri": "https://localhost:8080/"
        },
        "id": "sr-w0ah7S2sq",
        "outputId": "b3a08fac-2811-4bd3-dda1-5a8a64de6fa1"
      },
      "execution_count": null,
      "outputs": [
        {
          "output_type": "execute_result",
          "data": {
            "text/plain": [
              "()"
            ]
          },
          "metadata": {},
          "execution_count": 84
        }
      ]
    },
    {
      "cell_type": "code",
      "source": [
        "acc = model.evaluate(X_val,y_val_cat)"
      ],
      "metadata": {
        "colab": {
          "base_uri": "https://localhost:8080/"
        },
        "id": "3bRJt4cEnbm6",
        "outputId": "2fa54131-5059-4e9f-b00b-a1412d1dd397"
      },
      "execution_count": null,
      "outputs": [
        {
          "output_type": "stream",
          "name": "stdout",
          "text": [
            "4/4 [==============================] - 0s 96ms/step - loss: 0.0050 - iou_score: 0.4542 - f1-score: 0.5609\n"
          ]
        }
      ]
    },
    {
      "cell_type": "code",
      "source": [
        "# print('accuracy is = ',(acc*100.0),'%')"
      ],
      "metadata": {
        "id": "KXpHpq3oqDi_"
      },
      "execution_count": null,
      "outputs": []
    },
    {
      "cell_type": "code",
      "source": [
        "from keras.utils.version_utils import ModelVersionSelector\n",
        "\n",
        "###\n",
        "#plot the training and validation accuracy and loss at each epoch\n",
        "loss = history.history['loss']\n",
        "val_loss = history.history['val_loss']\n",
        "epochs = range(1, len(loss) + 1)\n",
        "plt.plot(epochs, loss, 'y', label='Training loss')\n",
        "plt.plot(epochs, val_loss, 'r', label='Validation loss')\n",
        "plt.title('Training and validation loss')\n",
        "plt.xlabel('Epochs')\n",
        "plt.ylabel('Loss')\n",
        "plt.legend()\n",
        "plt.show()\n",
        "\n",
        "acc = history.history['f1-score']\n",
        "val_acc = ModelVersionSelector.history['val_f1-score']\n",
        "\n",
        "plt.plot(epochs, acc, 'y', label='Training Accuracy')\n",
        "plt.plot(epochs, val_acc, 'r', label='Validation Accuracy')\n",
        "plt.title('Training and validation Accuracy')\n",
        "plt.xlabel('Epochs')\n",
        "plt.ylabel('Accuracy')\n",
        "plt.legend()\n",
        "plt.show()\n",
        "\n",
        "\n",
        "\n",
        "acc = history.history['iou_score']\n",
        "val_acc = ModelVersionSelector.history['val_iou_score']\n",
        "\n",
        "plt.plot(epochs, acc, 'y', label='Training Accuracy')\n",
        "plt.plot(epochs, val_acc, 'r', label='Validation Accuracy')\n",
        "plt.title('Training and validation Accuracy')\n",
        "plt.xlabel('Epochs')\n",
        "plt.ylabel('Accuracy')\n",
        "plt.legend()\n",
        "plt.show()\n"
      ],
      "metadata": {
        "colab": {
          "base_uri": "https://localhost:8080/",
          "height": 235
        },
        "id": "ulQIHUE5nbjb",
        "outputId": "2952b0de-2ef3-4b94-b3ba-a40a38ca1d1d"
      },
      "execution_count": null,
      "outputs": [
        {
          "output_type": "error",
          "ename": "AttributeError",
          "evalue": "ignored",
          "traceback": [
            "\u001b[0;31m---------------------------------------------------------------------------\u001b[0m",
            "\u001b[0;31mAttributeError\u001b[0m                            Traceback (most recent call last)",
            "\u001b[0;32m<ipython-input-34-741933e1de2b>\u001b[0m in \u001b[0;36m<module>\u001b[0;34m()\u001b[0m\n\u001b[1;32m      3\u001b[0m \u001b[0;31m###\u001b[0m\u001b[0;34m\u001b[0m\u001b[0;34m\u001b[0m\u001b[0;34m\u001b[0m\u001b[0m\n\u001b[1;32m      4\u001b[0m \u001b[0;31m#plot the training and validation accuracy and loss at each epoch\u001b[0m\u001b[0;34m\u001b[0m\u001b[0;34m\u001b[0m\u001b[0;34m\u001b[0m\u001b[0m\n\u001b[0;32m----> 5\u001b[0;31m \u001b[0mloss\u001b[0m \u001b[0;34m=\u001b[0m \u001b[0mhistory\u001b[0m\u001b[0;34m.\u001b[0m\u001b[0mhistory\u001b[0m\u001b[0;34m[\u001b[0m\u001b[0;34m'loss'\u001b[0m\u001b[0;34m]\u001b[0m\u001b[0;34m\u001b[0m\u001b[0;34m\u001b[0m\u001b[0m\n\u001b[0m\u001b[1;32m      6\u001b[0m \u001b[0mval_loss\u001b[0m \u001b[0;34m=\u001b[0m \u001b[0mhistory\u001b[0m\u001b[0;34m.\u001b[0m\u001b[0mhistory\u001b[0m\u001b[0;34m[\u001b[0m\u001b[0;34m'val_loss'\u001b[0m\u001b[0;34m]\u001b[0m\u001b[0;34m\u001b[0m\u001b[0;34m\u001b[0m\u001b[0m\n\u001b[1;32m      7\u001b[0m \u001b[0mepochs\u001b[0m \u001b[0;34m=\u001b[0m \u001b[0mrange\u001b[0m\u001b[0;34m(\u001b[0m\u001b[0;36m1\u001b[0m\u001b[0;34m,\u001b[0m \u001b[0mlen\u001b[0m\u001b[0;34m(\u001b[0m\u001b[0mloss\u001b[0m\u001b[0;34m)\u001b[0m \u001b[0;34m+\u001b[0m \u001b[0;36m1\u001b[0m\u001b[0;34m)\u001b[0m\u001b[0;34m\u001b[0m\u001b[0;34m\u001b[0m\u001b[0m\n",
            "\u001b[0;31mAttributeError\u001b[0m: 'dict' object has no attribute 'history'"
          ]
        }
      ]
    },
    {
      "cell_type": "code",
      "source": [
        "model.load_weights(\"/content/drive/MyDrive/0_epoch_weights/accurcy0100.h5\")"
      ],
      "metadata": {
        "id": "BgZhdWShnbg1"
      },
      "execution_count": null,
      "outputs": []
    },
    {
      "cell_type": "code",
      "source": [
        "y_pred = model.predict(X_test)"
      ],
      "metadata": {
        "id": "6c6L2-psnbd_"
      },
      "execution_count": null,
      "outputs": []
    },
    {
      "cell_type": "code",
      "source": [
        "cv2_imshow(X_test[0])"
      ],
      "metadata": {
        "colab": {
          "base_uri": "https://localhost:8080/",
          "height": 273
        },
        "id": "zMEyRDXqxVMF",
        "outputId": "785e33f1-ce21-4fec-be08-4cc7932fe998"
      },
      "execution_count": null,
      "outputs": [
        {
          "output_type": "display_data",
          "data": {
            "text/plain": [
              "<PIL.Image.Image image mode=RGB size=256x256 at 0x7F523C6E0ED0>"
            ],
            "image/png": "[encoded data removed]"
          },
          "metadata": {}
        }
      ]
    },
    {
      "cell_type": "code",
      "source": [
        "np.shape(y_pred)"
      ],
      "metadata": {
        "colab": {
          "base_uri": "https://localhost:8080/"
        },
        "id": "-gDP9jwtnbbQ",
        "outputId": "0a85afee-08c6-46db-e4dc-464ceeaa0483"
      },
      "execution_count": null,
      "outputs": [
        {
          "output_type": "execute_result",
          "data": {
            "text/plain": [
              "(12, 256, 256, 3)"
            ]
          },
          "metadata": {},
          "execution_count": 38
        }
      ]
    },
    {
      "cell_type": "code",
      "source": [
        "y_pred_argmax = np.argmax(y_pred,axis=3)"
      ],
      "metadata": {
        "id": "plhUPkRtnbYf"
      },
      "execution_count": null,
      "outputs": []
    },
    {
      "cell_type": "code",
      "source": [
        "np.shape(y_pred_argmax)"
      ],
      "metadata": {
        "colab": {
          "base_uri": "https://localhost:8080/"
        },
        "id": "ILH6fRoXnbV7",
        "outputId": "43c23a42-f51f-4777-b877-e04786ffc52e"
      },
      "execution_count": null,
      "outputs": [
        {
          "output_type": "execute_result",
          "data": {
            "text/plain": [
              "(12, 256, 256)"
            ]
          },
          "metadata": {},
          "execution_count": 40
        }
      ]
    },
    {
      "cell_type": "code",
      "source": [
        "np.unique(y_pred_argmax)"
      ],
      "metadata": {
        "colab": {
          "base_uri": "https://localhost:8080/"
        },
        "id": "ue6OFwovnbTH",
        "outputId": "a0658066-6363-4b57-c07b-2855ad3227ef"
      },
      "execution_count": null,
      "outputs": [
        {
          "output_type": "execute_result",
          "data": {
            "text/plain": [
              "array([0, 1, 2])"
            ]
          },
          "metadata": {},
          "execution_count": 41
        }
      ]
    },
    {
      "cell_type": "code",
      "source": [
        "cv2_imshow(y_pred_argmax[0])"
      ],
      "metadata": {
        "colab": {
          "base_uri": "https://localhost:8080/",
          "height": 273
        },
        "id": "wi2TbhwYnbQh",
        "outputId": "8fd1e6ef-4a34-4e04-a767-cf68b0f5564d"
      },
      "execution_count": null,
      "outputs": [
        {
          "output_type": "display_data",
          "data": {
            "text/plain": [
              "<PIL.Image.Image image mode=L size=256x256 at 0x7F523C718B10>"
            ],
            "image/png": "[encoded data removed]"
          },
          "metadata": {}
        }
      ]
    },
    {
      "cell_type": "code",
      "source": [
        "y_pred_argmax = np.where(y_pred_argmax == 1,76,y_pred_argmax)\n",
        "y_pred_argmax = np.where(y_pred_argmax == 2,149,y_pred_argmax)\n",
        "\n"
      ],
      "metadata": {
        "id": "Rq37VjuZnbNv"
      },
      "execution_count": null,
      "outputs": []
    },
    {
      "cell_type": "code",
      "source": [
        "np.unique(y_pred_argmax)"
      ],
      "metadata": {
        "colab": {
          "base_uri": "https://localhost:8080/"
        },
        "id": "Y-EVk440nbLI",
        "outputId": "598ef275-7801-45e9-b01a-12cc2c15de1f"
      },
      "execution_count": null,
      "outputs": [
        {
          "output_type": "execute_result",
          "data": {
            "text/plain": [
              "array([  0,  76, 149])"
            ]
          },
          "metadata": {},
          "execution_count": 44
        }
      ]
    },
    {
      "cell_type": "code",
      "source": [
        "cv2_imshow(X_test[0])"
      ],
      "metadata": {
        "colab": {
          "base_uri": "https://localhost:8080/",
          "height": 273
        },
        "id": "qh6WySXNw_qn",
        "outputId": "488b2f82-6ac0-48b1-a10b-3e39b5a0ce1e"
      },
      "execution_count": null,
      "outputs": [
        {
          "output_type": "display_data",
          "data": {
            "text/plain": [
              "<PIL.Image.Image image mode=RGB size=256x256 at 0x7F523C714190>"
            ],
            "image/png": "[encoded data removed]"
          },
          "metadata": {}
        }
      ]
    },
    {
      "cell_type": "code",
      "source": [
        "cv2_imshow(y_pred_argmax[1])"
      ],
      "metadata": {
        "colab": {
          "base_uri": "https://localhost:8080/",
          "height": 165
        },
        "id": "RTMeNMZNw4bW",
        "outputId": "be5a11e5-510c-4815-9e2b-970b00bfd1a4"
      },
      "execution_count": null,
      "outputs": [
        {
          "output_type": "error",
          "ename": "NameError",
          "evalue": "ignored",
          "traceback": [
            "\u001b[0;31m---------------------------------------------------------------------------\u001b[0m",
            "\u001b[0;31mNameError\u001b[0m                                 Traceback (most recent call last)",
            "\u001b[0;32m<ipython-input-13-0425f7f9b58f>\u001b[0m in \u001b[0;36m<module>\u001b[0;34m()\u001b[0m\n\u001b[0;32m----> 1\u001b[0;31m \u001b[0mcv2_imshow\u001b[0m\u001b[0;34m(\u001b[0m\u001b[0my_pred_argmax\u001b[0m\u001b[0;34m[\u001b[0m\u001b[0;36m1\u001b[0m\u001b[0;34m]\u001b[0m\u001b[0;34m)\u001b[0m\u001b[0;34m\u001b[0m\u001b[0;34m\u001b[0m\u001b[0m\n\u001b[0m",
            "\u001b[0;31mNameError\u001b[0m: name 'y_pred_argmax' is not defined"
          ]
        }
      ]
    },
    {
      "cell_type": "code",
      "source": [],
      "metadata": {
        "id": "5YsO9nEnHw2t"
      },
      "execution_count": null,
      "outputs": []
    },
    {
      "cell_type": "code",
      "source": [],
      "metadata": {
        "id": "dGfcGdoNHwzt"
      },
      "execution_count": null,
      "outputs": []
    },
    {
      "cell_type": "code",
      "source": [],
      "metadata": {
        "id": "WrgRp1szHww7"
      },
      "execution_count": null,
      "outputs": []
    },
    {
      "cell_type": "code",
      "source": [],
      "metadata": {
        "id": "MywMiPpyHwuJ"
      },
      "execution_count": null,
      "outputs": []
    },
    {
      "cell_type": "code",
      "source": [],
      "metadata": {
        "id": "F3Oa2DSKHwrN"
      },
      "execution_count": null,
      "outputs": []
    },
    {
      "cell_type": "code",
      "source": [],
      "metadata": {
        "id": "1pl1_hNBHwpT"
      },
      "execution_count": null,
      "outputs": []
    },
    {
      "cell_type": "code",
      "source": [],
      "metadata": {
        "id": "R_5HFbTrHwmb"
      },
      "execution_count": null,
      "outputs": []
    },
    {
      "cell_type": "code",
      "source": [],
      "metadata": {
        "id": "5gEi2sB2Hwjo"
      },
      "execution_count": null,
      "outputs": []
    },
    {
      "cell_type": "code",
      "source": [],
      "metadata": {
        "id": "8nk2-sHCHwgo"
      },
      "execution_count": null,
      "outputs": []
    },
    {
      "cell_type": "code",
      "source": [],
      "metadata": {
        "id": "vMa1nyA2Hwea"
      },
      "execution_count": null,
      "outputs": []
    },
    {
      "cell_type": "code",
      "source": [],
      "metadata": {
        "id": "zE6dXvFmHwbm"
      },
      "execution_count": null,
      "outputs": []
    },
    {
      "cell_type": "code",
      "source": [],
      "metadata": {
        "id": "uMXz5CrgHwZU"
      },
      "execution_count": null,
      "outputs": []
    },
    {
      "cell_type": "code",
      "source": [],
      "metadata": {
        "id": "FF1z-sCYHwWu"
      },
      "execution_count": null,
      "outputs": []
    },
    {
      "cell_type": "code",
      "source": [],
      "metadata": {
        "id": "0k3TO8B6HwUW"
      },
      "execution_count": null,
      "outputs": []
    },
    {
      "cell_type": "code",
      "source": [],
      "metadata": {
        "id": "SpBMereqHwR3"
      },
      "execution_count": null,
      "outputs": []
    },
    {
      "cell_type": "code",
      "source": [
        "import numpy as np\n",
        "\n",
        "new_arr_ele = np.array([15, 25, 44, 56, 74, 2, 19])\n",
        "result = np.where(new_arr_ele < 19, 69, new_arr_ele)\n",
        "print(\"Replace value:\",result)"
      ],
      "metadata": {
        "id": "BzKXdFwtnbIf"
      },
      "execution_count": null,
      "outputs": []
    },
    {
      "cell_type": "code",
      "source": [],
      "metadata": {
        "id": "kgg56SfenbFX"
      },
      "execution_count": null,
      "outputs": []
    },
    {
      "cell_type": "code",
      "execution_count": null,
      "metadata": {
        "id": "N5i-CvYWv3bB"
      },
      "outputs": [],
      "source": [
        "# ##############################################################\n",
        "# '''\n",
        "# Useful blocks to build Unet\n",
        "# conv - BN - Activation - conv - BN - Activation - Dropout (if enabled)\n",
        "# '''\n",
        "\n",
        "\n",
        "# def conv_block(x, filter_size, size, dropout, batch_norm=False):\n",
        "\n",
        "#     conv = layers.Conv2D(size, (filter_size, filter_size), padding=\"same\")(x)\n",
        "#     if batch_norm is True:\n",
        "#         conv = layers.BatchNormalization(axis=3)(conv)\n",
        "#     conv = layers.Activation(\"relu\")(conv)\n",
        "\n",
        "#     conv = layers.Conv2D(size, (filter_size, filter_size), padding=\"same\")(conv)\n",
        "#     if batch_norm is True:\n",
        "#         conv = layers.BatchNormalization(axis=3)(conv)\n",
        "#     conv = layers.Activation(\"relu\")(conv)\n",
        "\n",
        "#     if dropout > 0:\n",
        "#         conv = layers.Dropout(dropout)(conv)\n",
        "\n",
        "#     return conv"
      ]
    },
    {
      "cell_type": "code",
      "execution_count": null,
      "metadata": {
        "colab": {
          "base_uri": "https://localhost:8080/"
        },
        "id": "oRdjHrml92em",
        "outputId": "142f4197-0ff2-4063-e347-65957d8fab49"
      },
      "outputs": [
        {
          "output_type": "execute_result",
          "data": {
            "text/plain": [
              "(12, 256, 256, 1)"
            ]
          },
          "metadata": {},
          "execution_count": 64
        }
      ],
      "source": [
        "np.shape(X_test)"
      ]
    },
    {
      "cell_type": "code",
      "execution_count": null,
      "metadata": {
        "id": "y0hdz036v3YQ"
      },
      "outputs": [],
      "source": [
        "# def gating_signal(input, out_size, batch_norm=False):\n",
        "#     \"\"\"\n",
        "#     resize the down layer feature map into the same dimension as the up layer feature map\n",
        "#     using 1x1 conv\n",
        "#     :return: the gating feature map with the same dimension of the up layer feature map\n",
        "#     \"\"\"\n",
        "#     x = layers.Conv2D(out_size, (1, 1), padding='same')(input)\n",
        "#     if batch_norm:\n",
        "#         x = layers.BatchNormalization()(x)\n",
        "#     x = layers.Activation('relu')(x)\n",
        "#     return x\n",
        "\n",
        "# def attention_block(x, gating, inter_shape):\n",
        "#     shape_x = K.int_shape(x)\n",
        "#     shape_g = K.int_shape(gating)\n",
        "\n",
        "# # Getting the x signal to the same shape as the gating signal\n",
        "#     theta_x = layers.Conv2D(inter_shape, (2, 2), strides=(2, 2), padding='same')(x)  # 16\n",
        "#     shape_theta_x = K.int_shape(theta_x)\n",
        "\n",
        "# # Getting the gating signal to the same number of filters as the inter_shape\n",
        "#     phi_g = layers.Conv2D(inter_shape, (1, 1), padding='same')(gating)\n",
        "#     upsample_g = layers.Conv2DTranspose(inter_shape, (3, 3),\n",
        "#                                  strides=(shape_theta_x[1] // shape_g[1], shape_theta_x[2] // shape_g[2]),\n",
        "#                                  padding='same')(phi_g)  # 16\n",
        "\n",
        "#     concat_xg = layers.add([upsample_g, theta_x])\n",
        "#     act_xg = layers.Activation('relu')(concat_xg)\n",
        "#     psi = layers.Conv2D(1, (1, 1), padding='same')(act_xg)\n",
        "#     sigmoid_xg = layers.Activation('sigmoid')(psi)\n",
        "#     shape_sigmoid = K.int_shape(sigmoid_xg)\n",
        "#     upsample_psi = layers.UpSampling2D(size=(shape_x[1] // shape_sigmoid[1], shape_x[2] // shape_sigmoid[2]))(sigmoid_xg)  # 32\n",
        "\n",
        "#     y = layers.multiply([upsample_psi, x])\n",
        "\n",
        "#     result = layers.Conv2D(shape_x[3], (1, 1), padding='same')(y)\n",
        "#     result_bn = layers.BatchNormalization()(result)\n",
        "#     return result_bn\n"
      ]
    },
    {
      "cell_type": "code",
      "execution_count": null,
      "metadata": {
        "colab": {
          "base_uri": "https://localhost:8080/"
        },
        "id": "B35wBlJ-99K1",
        "outputId": "b60d9459-356e-4ff1-b796-c1c7709f25ac"
      },
      "outputs": [
        {
          "output_type": "execute_result",
          "data": {
            "text/plain": [
              "(12, 256, 256, 1)"
            ]
          },
          "metadata": {},
          "execution_count": 66
        }
      ],
      "source": [
        "np.shape(X_test)"
      ]
    },
    {
      "cell_type": "code",
      "execution_count": null,
      "metadata": {
        "id": "y1xmNOSRv3Vb"
      },
      "outputs": [],
      "source": [
        "# def Attention_UNet(input_shape, NUM_CLASSES=3, dropout_rate=0.0, batch_norm=True):\n",
        "#     '''\n",
        "#     Attention UNet,\n",
        "\n",
        "#     '''\n",
        "#     # network structure\n",
        "#     FILTER_NUM = 64 # number of basic filters for the first layer\n",
        "#     FILTER_SIZE = 3 # size of the convolutional filter\n",
        "#     UP_SAMP_SIZE = 2 # size of upsampling filters\n",
        "\n",
        "#     inputs = layers.Input(input_shape, dtype=tf.float32)\n",
        "\n",
        "#     # Downsampling layers\n",
        "#     # DownRes 1, convolution + pooling\n",
        "#     conv_128 = conv_block(inputs, FILTER_SIZE, FILTER_NUM, dropout_rate, batch_norm)\n",
        "#     pool_64 = layers.MaxPooling2D(pool_size=(2,2))(conv_128)\n",
        "#     # DownRes 2\n",
        "#     conv_64 = conv_block(pool_64, FILTER_SIZE, 2*FILTER_NUM, dropout_rate, batch_norm)\n",
        "#     pool_32 = layers.MaxPooling2D(pool_size=(2,2))(conv_64)\n",
        "#     # DownRes 3\n",
        "#     conv_32 = conv_block(pool_32, FILTER_SIZE, 4*FILTER_NUM, dropout_rate, batch_norm)\n",
        "#     pool_16 = layers.MaxPooling2D(pool_size=(2,2))(conv_32)\n",
        "#     # DownRes 4\n",
        "#     conv_16 = conv_block(pool_16, FILTER_SIZE, 8*FILTER_NUM, dropout_rate, batch_norm)\n",
        "#     pool_8 = layers.MaxPooling2D(pool_size=(2,2))(conv_16)\n",
        "#     # DownRes 5, convolution only\n",
        "#     conv_8 = conv_block(pool_8, FILTER_SIZE, 16*FILTER_NUM, dropout_rate, batch_norm)\n",
        "\n",
        "#     # Upsampling layers\n",
        "#     # UpRes 6, attention gated concatenation + upsampling + double residual convolution\n",
        "#     gating_16 = gating_signal(conv_8, 8*FILTER_NUM, batch_norm)\n",
        "#     att_16 = attention_block(conv_16, gating_16, 8*FILTER_NUM)\n",
        "#     up_16 = layers.UpSampling2D(size=(UP_SAMP_SIZE, UP_SAMP_SIZE), data_format=\"channels_last\")(conv_8)\n",
        "#     up_16 = layers.concatenate([up_16, att_16], axis=3)\n",
        "#     up_conv_16 = conv_block(up_16, FILTER_SIZE, 8*FILTER_NUM, dropout_rate, batch_norm)\n",
        "#     # UpRes 7\n",
        "#     gating_32 = gating_signal(up_conv_16, 4*FILTER_NUM, batch_norm)\n",
        "#     att_32 = attention_block(conv_32, gating_32, 4*FILTER_NUM)\n",
        "#     up_32 = layers.UpSampling2D(size=(UP_SAMP_SIZE, UP_SAMP_SIZE), data_format=\"channels_last\")(up_conv_16)\n",
        "#     up_32 = layers.concatenate([up_32, att_32], axis=3)\n",
        "#     up_conv_32 = conv_block(up_32, FILTER_SIZE, 4*FILTER_NUM, dropout_rate, batch_norm)\n",
        "#     # UpRes 8\n",
        "#     gating_64 = gating_signal(up_conv_32, 2*FILTER_NUM, batch_norm)\n",
        "#     att_64 = attention_block(conv_64, gating_64, 2*FILTER_NUM)\n",
        "#     up_64 = layers.UpSampling2D(size=(UP_SAMP_SIZE, UP_SAMP_SIZE), data_format=\"channels_last\")(up_conv_32)\n",
        "#     up_64 = layers.concatenate([up_64, att_64], axis=3)\n",
        "#     up_conv_64 = conv_block(up_64, FILTER_SIZE, 2*FILTER_NUM, dropout_rate, batch_norm)\n",
        "#     # UpRes 9\n",
        "#     gating_128 = gating_signal(up_conv_64, FILTER_NUM, batch_norm)\n",
        "#     att_128 = attention_block(conv_128, gating_128, FILTER_NUM)\n",
        "#     up_128 = layers.UpSampling2D(size=(UP_SAMP_SIZE, UP_SAMP_SIZE), data_format=\"channels_last\")(up_conv_64)\n",
        "#     up_128 = layers.concatenate([up_128, att_128], axis=3)\n",
        "#     up_conv_128 = conv_block(up_128, FILTER_SIZE, FILTER_NUM, dropout_rate, batch_norm)\n",
        "\n",
        "#     # 1*1 convolutional layers\n",
        "#     conv_final = layers.Conv2D(NUM_CLASSES, kernel_size=(1,1))(up_conv_128)\n",
        "#     conv_final = layers.BatchNormalization(axis=3)(conv_final)\n",
        "#     conv_final = layers.Activation('softmax')(conv_final)  #Change to softmax for multichannel\n",
        "\n",
        "#     # Model integration\n",
        "#     model = models.Model(inputs, conv_final, name=\"Attention_UNet\")\n",
        "#     return model\n"
      ]
    },
    {
      "cell_type": "code",
      "execution_count": null,
      "metadata": {
        "id": "EQUTPnFov3Sw"
      },
      "outputs": [],
      "source": [
        "model = Attention_UNet(input_shape, NUM_CLASSES=3, dropout_rate=0.0, batch_norm=True)\n",
        "model.compile(optimizer='adam', loss=loss_fun, metrics=[\"accuracy\",\n",
        "                                                        tf.keras.metrics.MeanIoU(3),\n",
        "                                                        sm.metrics.IOUScore(threshold=0.5),\n",
        "                                                        tf.keras.metrics.Precision(),\n",
        "                                                        tf.keras.metrics.Recall(),\n",
        "                                                        [jacard_coef],\n",
        "                                                        [dice_coef],\n",
        "                                                        sm.metrics.FScore(threshold=0.5)])\n",
        "model.summary()\n"
      ]
    },
    {
      "cell_type": "code",
      "execution_count": null,
      "metadata": {
        "colab": {
          "base_uri": "https://localhost:8080/"
        },
        "id": "hX7uUBe7-Inh",
        "outputId": "6f8e936e-6af0-47be-f9ff-92964df34439"
      },
      "outputs": [
        {
          "output_type": "execute_result",
          "data": {
            "text/plain": [
              "(12, 256, 256, 1)"
            ]
          },
          "metadata": {},
          "execution_count": 31
        }
      ],
      "source": [
        "np.shape(X_test)"
      ]
    },
    {
      "cell_type": "code",
      "execution_count": null,
      "metadata": {
        "id": "KGb0n5ndv3Q6"
      },
      "outputs": [],
      "source": [
        "log_csv = CSVLogger('/content/drive/MyDrive/my_logs.csv', separator=',', append=True)\n",
        "early_stop = EarlyStopping(monitor='val_dice_coef', patience=3, verbose=1)\n",
        "file_path = '/content/drive/MyDrive/0_epoch_weights/epochno-{epoch:04d}.hdf5'\n",
        "checkpoint = ModelCheckpoint(file_path, verbose=1,monitor=\"val_dice_coef\", save_best_only=True, mode='max',save_freq=1)\n",
        "\n",
        "\n",
        "tensorboard_callback = tf.keras.callbacks.TensorBoard(\n",
        "    log_dir='/content/drive/MyDrive/0ten/Tensorboard_logs',\n",
        "    histogram_freq=1,\n",
        "    write_graph=True,\n",
        "    write_images=False,\n",
        "    write_steps_per_second=False,\n",
        "    update_freq='epoch',\n",
        "    profile_batch=0,\n",
        "    embeddings_freq=0,\n",
        "    embeddings_metadata=None,\n",
        ")\n",
        "\n",
        "callbacks_list = [log_csv,checkpoint,tensorboard_callback,early_stop]"
      ]
    },
    {
      "cell_type": "code",
      "execution_count": null,
      "metadata": {
        "colab": {
          "base_uri": "https://localhost:8080/"
        },
        "id": "b3LW--Xe9XpT",
        "outputId": "2c955c76-634a-456a-8fd9-12e66b22fa6a"
      },
      "outputs": [
        {
          "output_type": "execute_result",
          "data": {
            "text/plain": [
              "(12, 256, 256, 1)"
            ]
          },
          "metadata": {},
          "execution_count": 72
        }
      ],
      "source": [
        "np.shape(X_test)"
      ]
    },
    {
      "cell_type": "code",
      "execution_count": null,
      "metadata": {
        "id": "eRVoHBXFkcEI"
      },
      "outputs": [],
      "source": [
        "# from keras.models import load_model"
      ]
    },
    {
      "cell_type": "code",
      "execution_count": null,
      "metadata": {
        "id": "m6zrt2WnkcBj"
      },
      "outputs": [],
      "source": [
        "from keras.models import load_model\n",
        "model = load_model('/content/drive/MyDrive/0_epoch_weights/epochno-0003.hdf5',custom_objects={'focal_loss':loss_fun,\n",
        "                                                                                 'iou_score':sm.metrics.IOUScore(threshold=0.5),\n",
        "                                                                                 \"jacard_coef\":jacard_coef,\n",
        "                                                                                 \"dice_coef\":dice_coef,\n",
        "                                                                                 'f1-score':sm.metrics.FScore(threshold=0.5)})\n"
      ]
    },
    {
      "cell_type": "code",
      "execution_count": null,
      "metadata": {
        "id": "TgFaBNR4kb_W"
      },
      "outputs": [],
      "source": [
        "#IOU\n",
        "y_pred=model.predict(X_test)\n",
        "y_pred_argmax=np.argmax(y_pred, axis=3)\n"
      ]
    },
    {
      "cell_type": "code",
      "execution_count": null,
      "metadata": {
        "id": "d0v9ZqDIrsl7"
      },
      "outputs": [],
      "source": [
        "y_pred"
      ]
    },
    {
      "cell_type": "code",
      "execution_count": null,
      "metadata": {
        "colab": {
          "base_uri": "https://localhost:8080/",
          "height": 261
        },
        "id": "9is7Sd6Okb8f",
        "outputId": "d63df006-8c03-415c-92cd-90468633fdc6"
      },
      "outputs": [
        {
          "output_type": "display_data",
          "data": {
            "text/plain": [
              "<Figure size 864x576 with 3 Axes>"
            ],
            "image/png": "[encoded data removed]"
          },
          "metadata": {
            "needs_background": "light"
          }
        }
      ],
      "source": [
        "# Predict on a few images\n",
        "#model = get_model()\n",
        "#model.load_weights('???.hdf5')\n",
        "import random\n",
        "test_img_number = random.randint(0, len(X_test))\n",
        "test_img = X_test[test_img_number]\n",
        "ground_truth=y_test[test_img_number]\n",
        "test_img_norm=test_img[:,:,0][:,:,None]\n",
        "test_img_input=np.expand_dims(test_img_norm, 0)\n",
        "prediction = (model.predict(test_img_input))\n",
        "predicted_img=np.argmax(prediction, axis=3)[0,:,:]\n",
        "\n",
        "\n",
        "plt.figure(figsize=(12, 8))\n",
        "plt.subplot(231)\n",
        "plt.title('Testing Image')\n",
        "plt.imshow(test_img[:,:,0])\n",
        "plt.subplot(232)\n",
        "plt.title('Testing Label')\n",
        "plt.imshow(ground_truth[:,:,0])\n",
        "plt.subplot(233)\n",
        "plt.title('Prediction on test image')\n",
        "plt.imshow(predicted_img)\n",
        "plt.show()\n",
        "\n"
      ]
    },
    {
      "cell_type": "code",
      "execution_count": null,
      "metadata": {
        "id": "YAd6CVIPv3N1"
      },
      "outputs": [],
      "source": [
        "history = model.fit(X_train,y_train_cat,\n",
        "                    batch_size = 8,\n",
        "                    verbose=1,\n",
        "                    epochs=20,\n",
        "                    validation_data=(X_val,y_val_cat),\n",
        "                    callbacks=[callbacks_list],\n",
        "                    shuffle=False)"
      ]
    },
    {
      "cell_type": "code",
      "source": [
        "model.save(\"/content/drive/MyDrive/0_epoch_weights/ayush.h5\")"
      ],
      "metadata": {
        "id": "K_HYzioO4eWx"
      },
      "execution_count": null,
      "outputs": []
    },
    {
      "cell_type": "code",
      "source": [
        "loss = history.history['loss']\n",
        "val_loss = history.history['val_loss']\n",
        "\n",
        "plt.figure()\n",
        "plt.plot(history.epoch, loss, 'r', label='Training loss')\n",
        "plt.plot(history.epoch, val_loss, 'bo', label='Validation loss')\n",
        "plt.title('Training and Validation Loss')\n",
        "plt.xlabel('Epoch')\n",
        "plt.ylabel('Loss Value')\n",
        "plt.ylim([0, 1])\n",
        "plt.legend()\n",
        "plt.show()"
      ],
      "metadata": {
        "colab": {
          "base_uri": "https://localhost:8080/",
          "height": 235
        },
        "id": "5BWBXh8GmDzi",
        "outputId": "1375af89-622f-425f-e61d-9cbca51fe11a"
      },
      "execution_count": null,
      "outputs": [
        {
          "output_type": "error",
          "ename": "NameError",
          "evalue": "ignored",
          "traceback": [
            "\u001b[0;31m---------------------------------------------------------------------------\u001b[0m",
            "\u001b[0;31mNameError\u001b[0m                                 Traceback (most recent call last)",
            "\u001b[0;32m<ipython-input-2-65454bdb37bb>\u001b[0m in \u001b[0;36m<module>\u001b[0;34m()\u001b[0m\n\u001b[0;32m----> 1\u001b[0;31m \u001b[0mloss\u001b[0m \u001b[0;34m=\u001b[0m \u001b[0mhistory\u001b[0m\u001b[0;34m.\u001b[0m\u001b[0mhistory\u001b[0m\u001b[0;34m[\u001b[0m\u001b[0;34m'loss'\u001b[0m\u001b[0;34m]\u001b[0m\u001b[0;34m\u001b[0m\u001b[0;34m\u001b[0m\u001b[0m\n\u001b[0m\u001b[1;32m      2\u001b[0m \u001b[0mval_loss\u001b[0m \u001b[0;34m=\u001b[0m \u001b[0mhistory\u001b[0m\u001b[0;34m.\u001b[0m\u001b[0mhistory\u001b[0m\u001b[0;34m[\u001b[0m\u001b[0;34m'val_loss'\u001b[0m\u001b[0;34m]\u001b[0m\u001b[0;34m\u001b[0m\u001b[0;34m\u001b[0m\u001b[0m\n\u001b[1;32m      3\u001b[0m \u001b[0;34m\u001b[0m\u001b[0m\n\u001b[1;32m      4\u001b[0m \u001b[0mplt\u001b[0m\u001b[0;34m.\u001b[0m\u001b[0mfigure\u001b[0m\u001b[0;34m(\u001b[0m\u001b[0;34m)\u001b[0m\u001b[0;34m\u001b[0m\u001b[0;34m\u001b[0m\u001b[0m\n\u001b[1;32m      5\u001b[0m \u001b[0mplt\u001b[0m\u001b[0;34m.\u001b[0m\u001b[0mplot\u001b[0m\u001b[0;34m(\u001b[0m\u001b[0mhistory\u001b[0m\u001b[0;34m.\u001b[0m\u001b[0mepoch\u001b[0m\u001b[0;34m,\u001b[0m \u001b[0mloss\u001b[0m\u001b[0;34m,\u001b[0m \u001b[0;34m'r'\u001b[0m\u001b[0;34m,\u001b[0m \u001b[0mlabel\u001b[0m\u001b[0;34m=\u001b[0m\u001b[0;34m'Training loss'\u001b[0m\u001b[0;34m)\u001b[0m\u001b[0;34m\u001b[0m\u001b[0;34m\u001b[0m\u001b[0m\n",
            "\u001b[0;31mNameError\u001b[0m: name 'history' is not defined"
          ]
        }
      ]
    },
    {
      "cell_type": "code",
      "source": [
        "img = model.predict(X_test)"
      ],
      "metadata": {
        "id": "n_auzSkybRJj"
      },
      "execution_count": null,
      "outputs": []
    },
    {
      "cell_type": "code",
      "source": [],
      "metadata": {
        "id": "aY_ejBssbkrC"
      },
      "execution_count": null,
      "outputs": []
    },
    {
      "cell_type": "code",
      "source": [
        "y_pred_argmax=np.argmax(img, axis=3)\n"
      ],
      "metadata": {
        "id": "lTVP5OMcbyVt"
      },
      "execution_count": null,
      "outputs": []
    },
    {
      "cell_type": "code",
      "source": [
        "# Predict on a few images\n",
        "#model = get_model()\n",
        "model.load_weights('/content/drive/MyDrive/0_epoch_weights/ayush.h5')\n",
        "import random\n",
        "test_img_number = random.randint(0, len(X_test))\n",
        "test_img = X_test[test_img_number]\n",
        "ground_truth=y_test[test_img_number]\n",
        "test_img_norm=test_img[:,:,0][:,:,None]\n",
        "test_img_input=np.expand_dims(test_img_norm, 0)\n",
        "prediction = (model.predict(test_img_input))\n",
        "predicted_img=np.argmax(prediction, axis=3)[0,:,:]\n",
        "\n",
        "\n",
        "plt.figure(figsize=(12, 8))\n",
        "plt.subplot(231)\n",
        "plt.title('Testing Image')\n",
        "plt.imshow(test_img[:,:,0],cmap='jet')\n",
        "plt.subplot(232)\n",
        "plt.title('Testing Label')\n",
        "plt.imshow(ground_truth[:,:,0],cmap='jet')\n",
        "plt.subplot(233)\n",
        "plt.title('Prediction on test image')\n",
        "plt.imshow(predicted_img, cmap=\"jet\")\n",
        "plt.show()\n",
        "\n"
      ],
      "metadata": {
        "colab": {
          "base_uri": "https://localhost:8080/",
          "height": 261
        },
        "id": "Y0Z6i5-ib-Uz",
        "outputId": "e36fa4b7-1f24-4039-97cd-c7a796ab547b"
      },
      "execution_count": null,
      "outputs": [
        {
          "output_type": "display_data",
          "data": {
            "text/plain": [
              "<Figure size 864x576 with 3 Axes>"
            ],
            "image/png": "[encoded data removed]"
          },
          "metadata": {
            "needs_background": "light"
          }
        }
      ]
    },
    {
      "cell_type": "code",
      "source": [
        "tf.model.save(\"/content/drive/MyDrive/0_epoch_weights/model.h5\")"
      ],
      "metadata": {
        "colab": {
          "base_uri": "https://localhost:8080/",
          "height": 165
        },
        "id": "R3Xag5qHaYsL",
        "outputId": "49fe144e-448d-44a4-fd0e-9671a51869d9"
      },
      "execution_count": null,
      "outputs": [
        {
          "output_type": "error",
          "ename": "AttributeError",
          "evalue": "ignored",
          "traceback": [
            "\u001b[0;31m---------------------------------------------------------------------------\u001b[0m",
            "\u001b[0;31mAttributeError\u001b[0m                            Traceback (most recent call last)",
            "\u001b[0;32m<ipython-input-95-e89757950888>\u001b[0m in \u001b[0;36m<module>\u001b[0;34m()\u001b[0m\n\u001b[0;32m----> 1\u001b[0;31m \u001b[0mtf\u001b[0m\u001b[0;34m.\u001b[0m\u001b[0mmodel\u001b[0m\u001b[0;34m.\u001b[0m\u001b[0msave\u001b[0m\u001b[0;34m(\u001b[0m\u001b[0;34m\"/content/drive/MyDrive/0_epoch_weights/model.h5\"\u001b[0m\u001b[0;34m)\u001b[0m\u001b[0;34m\u001b[0m\u001b[0;34m\u001b[0m\u001b[0m\n\u001b[0m",
            "\u001b[0;31mAttributeError\u001b[0m: module 'tensorflow' has no attribute 'model'"
          ]
        }
      ]
    },
    {
      "cell_type": "code",
      "execution_count": null,
      "metadata": {
        "id": "oq7Hm7u0v3MK",
        "colab": {
          "base_uri": "https://localhost:8080/",
          "height": 165
        },
        "outputId": "e1a80597-e3ba-4fd2-9040-4ced1204f923"
      },
      "outputs": [
        {
          "output_type": "error",
          "ename": "AttributeError",
          "evalue": "ignored",
          "traceback": [
            "\u001b[0;31m---------------------------------------------------------------------------\u001b[0m",
            "\u001b[0;31mAttributeError\u001b[0m                            Traceback (most recent call last)",
            "\u001b[0;32m<ipython-input-94-2d9897b1106e>\u001b[0m in \u001b[0;36m<module>\u001b[0;34m()\u001b[0m\n\u001b[0;32m----> 1\u001b[0;31m \u001b[0mkeras\u001b[0m\u001b[0;34m.\u001b[0m\u001b[0mmodel\u001b[0m\u001b[0;34m.\u001b[0m\u001b[0msave\u001b[0m\u001b[0;34m(\u001b[0m\u001b[0mfilepath\u001b[0m\u001b[0;34m=\u001b[0m\u001b[0;34m'model.h5'\u001b[0m\u001b[0;34m)\u001b[0m\u001b[0;34m\u001b[0m\u001b[0;34m\u001b[0m\u001b[0m\n\u001b[0m",
            "\u001b[0;31mAttributeError\u001b[0m: module 'tensorflow.keras' has no attribute 'model'"
          ]
        }
      ],
      "source": []
    },
    {
      "cell_type": "code",
      "execution_count": null,
      "metadata": {
        "id": "KVdbzthTv3KM"
      },
      "outputs": [],
      "source": []
    },
    {
      "cell_type": "code",
      "execution_count": null,
      "metadata": {
        "id": "_OMtZLRPv3Io"
      },
      "outputs": [],
      "source": []
    },
    {
      "cell_type": "code",
      "execution_count": null,
      "metadata": {
        "id": "RO7mi7j1v3G2"
      },
      "outputs": [],
      "source": []
    },
    {
      "cell_type": "code",
      "execution_count": null,
      "metadata": {
        "id": "VpRWnAGvv3AR"
      },
      "outputs": [],
      "source": [
        "# model.fit(x_train, y_train, initial_epoch=9, epochs=19, callbacks=[Tensorboard()]"
      ]
    },
    {
      "cell_type": "code",
      "execution_count": null,
      "metadata": {
        "id": "UtcVTJtLv29Y"
      },
      "outputs": [],
      "source": []
    },
    {
      "cell_type": "code",
      "execution_count": null,
      "metadata": {
        "id": "PQ7tmv07v265"
      },
      "outputs": [],
      "source": []
    },
    {
      "cell_type": "code",
      "execution_count": null,
      "metadata": {
        "id": "eIaWJDiPv24Q"
      },
      "outputs": [],
      "source": []
    },
    {
      "cell_type": "code",
      "execution_count": null,
      "metadata": {
        "id": "UD8RAOwrv21t"
      },
      "outputs": [],
      "source": []
    },
    {
      "cell_type": "code",
      "execution_count": null,
      "metadata": {
        "id": "pniTfLWNv2zP"
      },
      "outputs": [],
      "source": []
    },
    {
      "cell_type": "code",
      "execution_count": null,
      "metadata": {
        "id": "08WAjjk9v2wu"
      },
      "outputs": [],
      "source": []
    },
    {
      "cell_type": "code",
      "execution_count": null,
      "metadata": {
        "id": "JGzF4RBxv2un"
      },
      "outputs": [],
      "source": []
    },
    {
      "cell_type": "code",
      "execution_count": null,
      "metadata": {
        "id": "8Z7TakdFv2sZ"
      },
      "outputs": [],
      "source": []
    },
    {
      "cell_type": "code",
      "execution_count": null,
      "metadata": {
        "id": "xt7n2AC3v2p5"
      },
      "outputs": [],
      "source": []
    },
    {
      "cell_type": "code",
      "execution_count": null,
      "metadata": {
        "id": "EWYzjMybv2na"
      },
      "outputs": [],
      "source": []
    },
    {
      "cell_type": "code",
      "execution_count": null,
      "metadata": {
        "id": "BJnGJb83v2lL"
      },
      "outputs": [],
      "source": []
    },
    {
      "cell_type": "code",
      "execution_count": null,
      "metadata": {
        "id": "LP4rioHMv2ip"
      },
      "outputs": [],
      "source": []
    },
    {
      "cell_type": "code",
      "execution_count": null,
      "metadata": {
        "id": "1Rv6kYV9v2gg"
      },
      "outputs": [],
      "source": []
    },
    {
      "cell_type": "code",
      "execution_count": null,
      "metadata": {
        "id": "eV8Vmdi_v2eA"
      },
      "outputs": [],
      "source": []
    },
    {
      "cell_type": "code",
      "execution_count": null,
      "metadata": {
        "id": "Yct2ihhdv2bm"
      },
      "outputs": [],
      "source": []
    }
  ],
  "metadata": {
    "colab": {
      "provenance": []
    },
    "kernelspec": {
      "display_name": "Python 3",
      "name": "python3"
    },
    "language_info": {
      "name": "python"
    },
    "gpuClass": "standard"
  },
  "nbformat": 4,
  "nbformat_minor": 0
}