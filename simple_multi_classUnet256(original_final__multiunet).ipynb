{
  "cells": [
    {
      "cell_type": "code",
      "execution_count": null,
      "metadata": {
        "id": "PCkVq6ncuFa2",
        "colab": {
          "base_uri": "https://localhost:8080/"
        },
        "outputId": "fda57b7b-914b-4d7e-e470-6b31c147ed50"
      },
      "outputs": [
        {
          "output_type": "stream",
          "name": "stdout",
          "text": [
            "Mounted at /content/drive\n"
          ]
        }
      ],
      "source": [
        "from google.colab import drive\n",
        "drive.mount('/content/drive')"
      ]
    },
    {
      "cell_type": "code",
      "execution_count": null,
      "metadata": {
        "id": "uH9IDayRv3kf",
        "colab": {
          "base_uri": "https://localhost:8080/"
        },
        "outputId": "45ee163a-31e7-43c7-8fc1-45d594bcb987"
      },
      "outputs": [
        {
          "output_type": "stream",
          "name": "stdout",
          "text": [
            "Looking in indexes: https://pypi.org/simple, https://us-python.pkg.dev/colab-wheels/public/simple/\n",
            "Collecting segmentation-models\n",
            "  Downloading segmentation_models-1.0.1-py3-none-any.whl (33 kB)\n",
            "Collecting efficientnet==1.0.0\n",
            "  Downloading efficientnet-1.0.0-py3-none-any.whl (17 kB)\n",
            "Collecting image-classifiers==1.0.0\n",
            "  Downloading image_classifiers-1.0.0-py3-none-any.whl (19 kB)\n",
            "Collecting keras-applications<=1.0.8,>=1.0.7\n",
            "  Downloading Keras_Applications-1.0.8-py3-none-any.whl (50 kB)\n",
            "\u001b[K     |████████████████████████████████| 50 kB 3.5 MB/s \n",
            "\u001b[?25hRequirement already satisfied: scikit-image in /usr/local/lib/python3.7/dist-packages (from efficientnet==1.0.0->segmentation-models) (0.18.3)\n",
            "Requirement already satisfied: h5py in /usr/local/lib/python3.7/dist-packages (from keras-applications<=1.0.8,>=1.0.7->segmentation-models) (3.1.0)\n",
            "Requirement already satisfied: numpy>=1.9.1 in /usr/local/lib/python3.7/dist-packages (from keras-applications<=1.0.8,>=1.0.7->segmentation-models) (1.21.6)\n",
            "Requirement already satisfied: cached-property in /usr/local/lib/python3.7/dist-packages (from h5py->keras-applications<=1.0.8,>=1.0.7->segmentation-models) (1.5.2)\n",
            "Requirement already satisfied: scipy>=1.0.1 in /usr/local/lib/python3.7/dist-packages (from scikit-image->efficientnet==1.0.0->segmentation-models) (1.4.1)\n",
            "Requirement already satisfied: imageio>=2.3.0 in /usr/local/lib/python3.7/dist-packages (from scikit-image->efficientnet==1.0.0->segmentation-models) (2.4.1)\n",
            "Requirement already satisfied: PyWavelets>=1.1.1 in /usr/local/lib/python3.7/dist-packages (from scikit-image->efficientnet==1.0.0->segmentation-models) (1.3.0)\n",
            "Requirement already satisfied: pillow!=7.1.0,!=7.1.1,>=4.3.0 in /usr/local/lib/python3.7/dist-packages (from scikit-image->efficientnet==1.0.0->segmentation-models) (7.1.2)\n",
            "Requirement already satisfied: networkx>=2.0 in /usr/local/lib/python3.7/dist-packages (from scikit-image->efficientnet==1.0.0->segmentation-models) (2.6.3)\n",
            "Requirement already satisfied: tifffile>=2019.7.26 in /usr/local/lib/python3.7/dist-packages (from scikit-image->efficientnet==1.0.0->segmentation-models) (2021.11.2)\n",
            "Requirement already satisfied: matplotlib!=3.0.0,>=2.0.0 in /usr/local/lib/python3.7/dist-packages (from scikit-image->efficientnet==1.0.0->segmentation-models) (3.2.2)\n",
            "Requirement already satisfied: python-dateutil>=2.1 in /usr/local/lib/python3.7/dist-packages (from matplotlib!=3.0.0,>=2.0.0->scikit-image->efficientnet==1.0.0->segmentation-models) (2.8.2)\n",
            "Requirement already satisfied: pyparsing!=2.0.4,!=2.1.2,!=2.1.6,>=2.0.1 in /usr/local/lib/python3.7/dist-packages (from matplotlib!=3.0.0,>=2.0.0->scikit-image->efficientnet==1.0.0->segmentation-models) (3.0.9)\n",
            "Requirement already satisfied: kiwisolver>=1.0.1 in /usr/local/lib/python3.7/dist-packages (from matplotlib!=3.0.0,>=2.0.0->scikit-image->efficientnet==1.0.0->segmentation-models) (1.4.3)\n",
            "Requirement already satisfied: cycler>=0.10 in /usr/local/lib/python3.7/dist-packages (from matplotlib!=3.0.0,>=2.0.0->scikit-image->efficientnet==1.0.0->segmentation-models) (0.11.0)\n",
            "Requirement already satisfied: typing-extensions in /usr/local/lib/python3.7/dist-packages (from kiwisolver>=1.0.1->matplotlib!=3.0.0,>=2.0.0->scikit-image->efficientnet==1.0.0->segmentation-models) (4.1.1)\n",
            "Requirement already satisfied: six>=1.5 in /usr/local/lib/python3.7/dist-packages (from python-dateutil>=2.1->matplotlib!=3.0.0,>=2.0.0->scikit-image->efficientnet==1.0.0->segmentation-models) (1.15.0)\n",
            "Installing collected packages: keras-applications, image-classifiers, efficientnet, segmentation-models\n",
            "Successfully installed efficientnet-1.0.0 image-classifiers-1.0.0 keras-applications-1.0.8 segmentation-models-1.0.1\n"
          ]
        }
      ],
      "source": [
        "pip install segmentation-models"
      ]
    },
    {
      "cell_type": "code",
      "execution_count": null,
      "metadata": {
        "id": "aAAp3rWGv3gn",
        "colab": {
          "base_uri": "https://localhost:8080/"
        },
        "outputId": "a90602fc-f7e6-4da3-8bcc-f86cac9d4ede"
      },
      "outputs": [
        {
          "output_type": "stream",
          "name": "stdout",
          "text": [
            "Looking in indexes: https://pypi.org/simple, https://us-python.pkg.dev/colab-wheels/public/simple/\n",
            "Requirement already satisfied: pyyaml in /usr/local/lib/python3.7/dist-packages (3.13)\n",
            "Requirement already satisfied: h5py in /usr/local/lib/python3.7/dist-packages (3.1.0)\n",
            "Requirement already satisfied: numpy>=1.14.5 in /usr/local/lib/python3.7/dist-packages (from h5py) (1.21.6)\n",
            "Requirement already satisfied: cached-property in /usr/local/lib/python3.7/dist-packages (from h5py) (1.5.2)\n"
          ]
        }
      ],
      "source": [
        "!pip install pyyaml h5py"
      ]
    },
    {
      "cell_type": "code",
      "execution_count": null,
      "metadata": {
        "id": "8eveqNQT0nUG"
      },
      "outputs": [],
      "source": [
        "# import segmentation_models as sm\n",
        "# loss_fun = sm.losses.CategoricalFocalLoss(alpha=0.25, gamma=2.0, class_indexes=None)"
      ]
    },
    {
      "cell_type": "code",
      "execution_count": null,
      "metadata": {
        "id": "8RwLwHfG0nR3"
      },
      "outputs": [],
      "source": [
        "import tensorflow\n",
        "import matplotlib.pyplot as plt\n",
        "from PIL import Image\n",
        "import glob\n",
        "from tensorflow.keras import backend as K\n",
        "import cv2\n",
        "\n",
        "import os\n",
        "import random\n",
        "import numpy as np\n",
        "from skimage.io import imread, imshow\n",
        "from skimage.transform import resize\n",
        "from keras.callbacks import ModelCheckpoint, EarlyStopping, CSVLogger\n",
        "from google.colab.patches import cv2_imshow"
      ]
    },
    {
      "cell_type": "code",
      "execution_count": null,
      "metadata": {
        "id": "2yhObGN9jJEq",
        "colab": {
          "base_uri": "https://localhost:8080/"
        },
        "outputId": "2c7fd2fd-8dd5-45b1-f3b3-453abadf3ab9"
      },
      "outputs": [
        {
          "output_type": "stream",
          "name": "stdout",
          "text": [
            "60\n"
          ]
        }
      ],
      "source": [
        "path = glob.glob(\"/content/drive/MyDrive/masks60/*.png\")\n",
        "path.sort()\n",
        "print(len(path))"
      ]
    },
    {
      "cell_type": "code",
      "execution_count": null,
      "metadata": {
        "id": "AwD5RFAqjegp"
      },
      "outputs": [],
      "source": [
        "train_images = []\n",
        "\n",
        "for img_path in path:\n",
        "  img = cv2.imread(img_path,0)\n",
        "  img = cv2.resize(img, (256, 256),interpolation = cv2.INTER_NEAREST)\n",
        "  train_images.append(img)"
      ]
    },
    {
      "cell_type": "code",
      "source": [
        "np.shape(train_images)"
      ],
      "metadata": {
        "id": "LzmrHGGJ0tf4",
        "colab": {
          "base_uri": "https://localhost:8080/"
        },
        "outputId": "1f4c61bf-b4f1-406f-9516-4cadd70b7653"
      },
      "execution_count": null,
      "outputs": [
        {
          "output_type": "execute_result",
          "data": {
            "text/plain": [
              "(60, 256, 256)"
            ]
          },
          "metadata": {},
          "execution_count": 7
        }
      ]
    },
    {
      "cell_type": "code",
      "source": [
        "cv2_imshow(train_images[0])"
      ],
      "metadata": {
        "colab": {
          "base_uri": "https://localhost:8080/",
          "height": 273
        },
        "id": "4vu8g4FA01mA",
        "outputId": "f1e2351b-7daa-4dfe-b026-baa2362b76cc"
      },
      "execution_count": null,
      "outputs": [
        {
          "output_type": "display_data",
          "data": {
            "text/plain": [
              "<PIL.Image.Image image mode=L size=256x256 at 0x7F1D3AFED310>"
            ],
            "image/png": "[encoded data removed]"
          },
          "metadata": {}
        }
      ]
    },
    {
      "cell_type": "code",
      "execution_count": null,
      "metadata": {
        "id": "dLmIQWHsljr-"
      },
      "outputs": [],
      "source": [
        "path1 = glob.glob(\"/content/drive/MyDrive/annotations/*.png\")\n",
        "path1.sort()"
      ]
    },
    {
      "cell_type": "code",
      "source": [
        "print(len(path1))"
      ],
      "metadata": {
        "colab": {
          "base_uri": "https://localhost:8080/"
        },
        "id": "z_ja_4Zm1CYk",
        "outputId": "05445ca6-8e1b-434d-c54c-b295a80a057f"
      },
      "execution_count": null,
      "outputs": [
        {
          "output_type": "stream",
          "name": "stdout",
          "text": [
            "60\n"
          ]
        }
      ]
    },
    {
      "cell_type": "code",
      "execution_count": null,
      "metadata": {
        "id": "2u4eMJyil6M4"
      },
      "outputs": [],
      "source": [
        "train_masks = []\n",
        "for img_path1 in path1:\n",
        "  mask = cv2.imread(img_path1,0)\n",
        "  mask = cv2.resize(mask, (256, 256), interpolation = cv2.INTER_NEAREST)  #Otherwise ground truth changes due to interpolation\n",
        "  train_masks.append(mask)"
      ]
    },
    {
      "cell_type": "code",
      "source": [
        "np.shape(train_masks)"
      ],
      "metadata": {
        "colab": {
          "base_uri": "https://localhost:8080/"
        },
        "id": "hwMbH5f3FyRh",
        "outputId": "a2fa2164-aa56-40d2-da5e-b1db924a7b2f"
      },
      "execution_count": null,
      "outputs": [
        {
          "output_type": "execute_result",
          "data": {
            "text/plain": [
              "(60, 256, 256)"
            ]
          },
          "metadata": {},
          "execution_count": 12
        }
      ]
    },
    {
      "cell_type": "code",
      "source": [
        "cv2_imshow(train_masks[0])"
      ],
      "metadata": {
        "colab": {
          "base_uri": "https://localhost:8080/",
          "height": 273
        },
        "id": "zbnAcuDAPctw",
        "outputId": "82228e6f-4e5e-4e6d-8dda-437a824b1b30"
      },
      "execution_count": null,
      "outputs": [
        {
          "output_type": "display_data",
          "data": {
            "text/plain": [
              "<PIL.Image.Image image mode=L size=256x256 at 0x7F1D3AF681D0>"
            ],
            "image/png": "[encoded data removed]"
          },
          "metadata": {}
        }
      ]
    },
    {
      "cell_type": "code",
      "source": [],
      "metadata": {
        "id": "rfBYp4pJoard"
      },
      "execution_count": null,
      "outputs": []
    },
    {
      "cell_type": "code",
      "execution_count": null,
      "metadata": {
        "colab": {
          "base_uri": "https://localhost:8080/"
        },
        "id": "2R5qHVKdMv3A",
        "outputId": "e25cccb4-c6f9-4f1c-9d1b-acd38d0013d6"
      },
      "outputs": [
        {
          "output_type": "execute_result",
          "data": {
            "text/plain": [
              "(60, 256, 256)"
            ]
          },
          "metadata": {},
          "execution_count": 14
        }
      ],
      "source": [
        "# train_masks = np.expand_dims(train_masks, axis=3)\n",
        "np.shape(train_masks)"
      ]
    },
    {
      "cell_type": "code",
      "execution_count": null,
      "metadata": {
        "colab": {
          "base_uri": "https://localhost:8080/"
        },
        "id": "k6BzaX6Ouoe5",
        "outputId": "6f007855-65fb-4326-f0f8-f2286101aa94"
      },
      "outputs": [
        {
          "output_type": "execute_result",
          "data": {
            "text/plain": [
              "array([  0,  76, 149], dtype=uint8)"
            ]
          },
          "metadata": {},
          "execution_count": 15
        }
      ],
      "source": [
        "n_classes = 3\n",
        "train_images = np.array(train_images)\n",
        "\n",
        "train_masks = np.array(train_masks)\n",
        "np.unique(train_masks)\n"
      ]
    },
    {
      "cell_type": "code",
      "execution_count": null,
      "metadata": {
        "colab": {
          "base_uri": "https://localhost:8080/"
        },
        "id": "dS9Lxr-Mys_d",
        "outputId": "9941f86e-8731-443c-ae02-687d931472b4"
      },
      "outputs": [
        {
          "output_type": "stream",
          "name": "stderr",
          "text": [
            "/usr/local/lib/python3.7/dist-packages/sklearn/preprocessing/_label.py:115: DataConversionWarning: A column-vector y was passed when a 1d array was expected. Please change the shape of y to (n_samples, ), for example using ravel().\n",
            "  y = column_or_1d(y, warn=True)\n"
          ]
        },
        {
          "output_type": "execute_result",
          "data": {
            "text/plain": [
              "array([0, 1, 2])"
            ]
          },
          "metadata": {},
          "execution_count": 16
        }
      ],
      "source": [
        "# n_classes = 3\n",
        "# train_images = np.array(train_images)\n",
        "\n",
        "# train_masks = np.array(train_masks)\n",
        "# np.unique(train_masks)\n",
        "\n",
        "# np.unique(train_masks)\n",
        "\n",
        "\n",
        "###############################################\n",
        "#Encode labels... but multi dim array so need to flatten, encode and reshape\n",
        "from sklearn.preprocessing import LabelEncoder\n",
        "labelencoder = LabelEncoder()\n",
        "n, h, w = train_masks.shape\n",
        "train_masks_reshaped = train_masks.reshape(-1,1)\n",
        "train_masks_reshaped_encoded = labelencoder.fit_transform(train_masks_reshaped)\n",
        "train_masks_encoded_original_shape = train_masks_reshaped_encoded.reshape(n, h, w)\n",
        "\n",
        "np.unique(train_masks_encoded_original_shape)"
      ]
    },
    {
      "cell_type": "code",
      "execution_count": null,
      "metadata": {
        "colab": {
          "base_uri": "https://localhost:8080/"
        },
        "id": "5q7RxiBC0nPS",
        "outputId": "e6039005-600e-4226-f574-f8c69ab0b975"
      },
      "outputs": [
        {
          "output_type": "stream",
          "name": "stdout",
          "text": [
            "Class values in the dataset are ...  [0 1 2]\n",
            "Class weights are...: [ 0.35983138  5.79421074 20.68915442]\n"
          ]
        }
      ],
      "source": [
        "# n_classes = 3\n",
        "# train_images = np.array(train_images)\n",
        "\n",
        "# train_masks = np.array(train_masks)\n",
        "# np.unique(train_masks)\n",
        "\n",
        "# np.unique(train_masks)\n",
        "\n",
        "\n",
        "# ###############################################\n",
        "# #Encode labels... but multi dim array so need to flatten, encode and reshape\n",
        "# from sklearn.preprocessing import LabelEncoder\n",
        "# labelencoder = LabelEncoder()\n",
        "# n, h, w = train_masks.shape\n",
        "# train_masks_reshaped = train_masks.reshape(-1,1)\n",
        "# train_masks_reshaped_encoded = labelencoder.fit_transform(train_masks_reshaped)\n",
        "# train_masks_encoded_original_shape = train_masks_reshaped_encoded.reshape(n, h, w)\n",
        "\n",
        "# np.unique(train_masks_encoded_original_shape)\n",
        "#################################################\n",
        "train_images = np.expand_dims(train_images, axis=3)\n",
        "train_images = tensorflow.keras.utils.normalize(train_images, axis=1)\n",
        "train_masks_input = np.expand_dims(train_masks_encoded_original_shape, axis=3)\n",
        "\n",
        "#Create a subset of data for quick testing\n",
        "#Picking 10% for testing and remaining for training\n",
        "from sklearn.model_selection import train_test_split\n",
        "X1, X_test, y1, y_test = train_test_split(train_images, train_masks_input, test_size = 0.20, random_state = 0)\n",
        "\n",
        "#Further split training data to smaller subset for quick testing of models\n",
        "X_train, X_val, y_train, y_val = train_test_split(X1, y1, test_size = 0.20, random_state = 0)\n",
        "\n",
        "print(\"Class values in the dataset are ... \", np.unique(y_train))  # 0 is the background/few unlabeled\n",
        "\n",
        "# from sklearn.utils import to_categorical\n",
        "import tensorflow as tf\n",
        "\n",
        "train_masks_cat = tf.keras.utils.to_categorical (y_train, num_classes=n_classes)\n",
        "y_train_cat = train_masks_cat.reshape((y_train.shape[0], y_train.shape[1], y_train.shape[2], n_classes))\n",
        "\n",
        "val_masks_cat = tf.keras.utils.to_categorical (y_val, num_classes=n_classes)\n",
        "y_val_cat = val_masks_cat.reshape((y_val.shape[0], y_val.shape[1], y_val.shape[2], n_classes))\n",
        "\n",
        "\n",
        "\n",
        "# test_masks_cat = tf.keras.utils.to_categorical (y_test, num_classes=n_classes)\n",
        "# y_test_cat = test_masks_cat.reshape((y_test.shape[0], y_test.shape[1], y_test.shape[2], n_classes))\n",
        "\n",
        "from sklearn.utils import class_weight\n",
        "class_weights = class_weight.compute_class_weight(class_weight='balanced',\n",
        "                                                 classes = np.unique(train_masks_reshaped_encoded),\n",
        "                                                 y = train_masks_reshaped_encoded)\n",
        "print(\"Class weights are...:\", class_weights)\n",
        "\n"
      ]
    },
    {
      "cell_type": "code",
      "source": [
        "np.unique(y_train[0])"
      ],
      "metadata": {
        "colab": {
          "base_uri": "https://localhost:8080/"
        },
        "id": "ayEL_4LtjfOq",
        "outputId": "67818bbc-0d09-49f8-baad-254097e70ecc"
      },
      "execution_count": null,
      "outputs": [
        {
          "output_type": "execute_result",
          "data": {
            "text/plain": [
              "array([0, 1, 2])"
            ]
          },
          "metadata": {},
          "execution_count": 18
        }
      ]
    },
    {
      "cell_type": "code",
      "source": [
        "train_masks_cat"
      ],
      "metadata": {
        "id": "jLA7J33uJLU8"
      },
      "execution_count": null,
      "outputs": []
    },
    {
      "cell_type": "code",
      "source": [
        "import tensorflow\n",
        "import glob\n",
        "from tensorflow.keras import backend as K\n",
        "import random\n",
        "from skimage.io import imread, imshow\n",
        "from skimage.transform import resize\n",
        "from keras.callbacks import ModelCheckpoint, EarlyStopping, CSVLogger\n",
        "from google.colab.patches import cv2_imshow\n",
        "import os\n",
        "import numpy as np\n",
        "from matplotlib import pyplot as plt\n",
        "from tensorflow.keras.optimizers import Adam\n",
        "import tensorflow as tf\n",
        "from datetime import datetime\n",
        "import cv2\n",
        "from PIL import Image\n",
        "from keras import backend, optimizers\n",
        "from tensorflow.keras import models, layers, regularizers\n",
        "\n",
        "\n"
      ],
      "metadata": {
        "id": "aCe0DabnGrlZ"
      },
      "execution_count": null,
      "outputs": []
    },
    {
      "cell_type": "code",
      "source": [],
      "metadata": {
        "id": "RqhaROarJLRU"
      },
      "execution_count": null,
      "outputs": []
    },
    {
      "cell_type": "code",
      "source": [
        "np.shape(y_val_cat)"
      ],
      "metadata": {
        "colab": {
          "base_uri": "https://localhost:8080/"
        },
        "id": "ohncxfwQI7vj",
        "outputId": "b6a62fb6-b286-4059-85ed-68ec891234d1"
      },
      "execution_count": null,
      "outputs": [
        {
          "output_type": "execute_result",
          "data": {
            "text/plain": [
              "(10, 256, 256, 3)"
            ]
          },
          "metadata": {},
          "execution_count": 34
        }
      ]
    },
    {
      "cell_type": "code",
      "source": [
        "np.unique(y_val_cat)"
      ],
      "metadata": {
        "colab": {
          "base_uri": "https://localhost:8080/"
        },
        "id": "f4cUBZiLI7st",
        "outputId": "ab5f04f1-7131-42ec-ed25-567d73b9be31"
      },
      "execution_count": null,
      "outputs": [
        {
          "output_type": "execute_result",
          "data": {
            "text/plain": [
              "array([0., 1.], dtype=float32)"
            ]
          },
          "metadata": {},
          "execution_count": 35
        }
      ]
    },
    {
      "cell_type": "code",
      "source": [],
      "metadata": {
        "id": "wCLg2FjYI7qL"
      },
      "execution_count": null,
      "outputs": []
    },
    {
      "cell_type": "code",
      "source": [
        "np.shape(y_train_cat)"
      ],
      "metadata": {
        "colab": {
          "base_uri": "https://localhost:8080/"
        },
        "id": "FcOOFmcTIdqm",
        "outputId": "b9aa33bc-3d8f-4d52-f4a9-28a3fed93955"
      },
      "execution_count": null,
      "outputs": [
        {
          "output_type": "execute_result",
          "data": {
            "text/plain": [
              "(38, 256, 256, 3)"
            ]
          },
          "metadata": {},
          "execution_count": 23
        }
      ]
    },
    {
      "cell_type": "code",
      "source": [
        "np.shape(y_train)"
      ],
      "metadata": {
        "colab": {
          "base_uri": "https://localhost:8080/"
        },
        "id": "kobB4psHIWOv",
        "outputId": "05a62f79-a654-48c7-9c8a-97c6bcfac923"
      },
      "execution_count": null,
      "outputs": [
        {
          "output_type": "execute_result",
          "data": {
            "text/plain": [
              "(38, 256, 256, 1)"
            ]
          },
          "metadata": {},
          "execution_count": 32
        }
      ]
    },
    {
      "cell_type": "code",
      "source": [
        "np.shape(train_masks_cat)"
      ],
      "metadata": {
        "colab": {
          "base_uri": "https://localhost:8080/"
        },
        "id": "U9Wq3dmMICsT",
        "outputId": "94250aeb-6e06-466a-cbca-f849c43e61e0"
      },
      "execution_count": null,
      "outputs": [
        {
          "output_type": "execute_result",
          "data": {
            "text/plain": [
              "(38, 256, 256, 3)"
            ]
          },
          "metadata": {},
          "execution_count": 31
        }
      ]
    },
    {
      "cell_type": "code",
      "source": [],
      "metadata": {
        "id": "g5tKUI-sIQdd"
      },
      "execution_count": null,
      "outputs": []
    },
    {
      "cell_type": "code",
      "source": [
        "np.shape(train_images)"
      ],
      "metadata": {
        "colab": {
          "base_uri": "https://localhost:8080/"
        },
        "id": "tsk-LCuZHviA",
        "outputId": "b6195b91-a908-478f-d777-de508e9ec135"
      },
      "execution_count": null,
      "outputs": [
        {
          "output_type": "execute_result",
          "data": {
            "text/plain": [
              "(60, 256, 256, 1)"
            ]
          },
          "metadata": {},
          "execution_count": 30
        }
      ]
    },
    {
      "cell_type": "code",
      "source": [
        "np.unique(train_masks_input)"
      ],
      "metadata": {
        "colab": {
          "base_uri": "https://localhost:8080/"
        },
        "id": "XOGQF4mIG0Bh",
        "outputId": "5a8a9575-3354-420f-ee7c-fc8d208992f9"
      },
      "execution_count": null,
      "outputs": [
        {
          "output_type": "execute_result",
          "data": {
            "text/plain": [
              "array([0, 1, 2])"
            ]
          },
          "metadata": {},
          "execution_count": 25
        }
      ]
    },
    {
      "cell_type": "code",
      "source": [
        "np.shape(y1)"
      ],
      "metadata": {
        "colab": {
          "base_uri": "https://localhost:8080/"
        },
        "id": "dW8b3XpTHhN1",
        "outputId": "6f46d189-3200-4f9a-da02-4b55966f6a9e"
      },
      "execution_count": null,
      "outputs": [
        {
          "output_type": "execute_result",
          "data": {
            "text/plain": [
              "(48, 256, 256, 1)"
            ]
          },
          "metadata": {},
          "execution_count": 28
        }
      ]
    },
    {
      "cell_type": "code",
      "source": [
        "np.unique(y1)"
      ],
      "metadata": {
        "colab": {
          "base_uri": "https://localhost:8080/"
        },
        "id": "ws2PqK38HSIK",
        "outputId": "adbec73f-0267-4e52-ae7d-bc5dd8a5f9ad"
      },
      "execution_count": null,
      "outputs": [
        {
          "output_type": "execute_result",
          "data": {
            "text/plain": [
              "array([0, 1, 2])"
            ]
          },
          "metadata": {},
          "execution_count": 26
        }
      ]
    },
    {
      "cell_type": "code",
      "source": [
        "np.unique(y_val)"
      ],
      "metadata": {
        "colab": {
          "base_uri": "https://localhost:8080/"
        },
        "id": "yaNHxgTRHatG",
        "outputId": "49508346-0a72-43cf-9249-e84613ad9e2d"
      },
      "execution_count": null,
      "outputs": [
        {
          "output_type": "execute_result",
          "data": {
            "text/plain": [
              "array([0, 1, 2])"
            ]
          },
          "metadata": {},
          "execution_count": 27
        }
      ]
    },
    {
      "cell_type": "code",
      "source": [
        "np.shape(y_val)"
      ],
      "metadata": {
        "colab": {
          "base_uri": "https://localhost:8080/"
        },
        "id": "snRa2VFdHkW_",
        "outputId": "e81b6066-cc4e-40ad-9011-a8fc6ac68380"
      },
      "execution_count": null,
      "outputs": [
        {
          "output_type": "execute_result",
          "data": {
            "text/plain": [
              "(10, 256, 256, 1)"
            ]
          },
          "metadata": {},
          "execution_count": 29
        }
      ]
    },
    {
      "cell_type": "code",
      "source": [
        "np.shape(y_train_cat)"
      ],
      "metadata": {
        "colab": {
          "base_uri": "https://localhost:8080/"
        },
        "id": "s8CbI_V3GWDT",
        "outputId": "4ea43593-4fc8-4b49-a1a3-ed8a825756b1"
      },
      "execution_count": null,
      "outputs": [
        {
          "output_type": "execute_result",
          "data": {
            "text/plain": [
              "(38, 256, 256, 3)"
            ]
          },
          "metadata": {},
          "execution_count": 21
        }
      ]
    },
    {
      "cell_type": "code",
      "source": [
        "np.unique(y_val_cat)"
      ],
      "metadata": {
        "colab": {
          "base_uri": "https://localhost:8080/"
        },
        "id": "7WqcLESaGbXp",
        "outputId": "6c471f41-0ac1-4aeb-b6d1-0c4c8834441c"
      },
      "execution_count": null,
      "outputs": [
        {
          "output_type": "execute_result",
          "data": {
            "text/plain": [
              "array([0., 1.], dtype=float32)"
            ]
          },
          "metadata": {},
          "execution_count": 23
        }
      ]
    },
    {
      "cell_type": "code",
      "source": [
        "IMG_HEIGHT = X_train.shape[1]\n",
        "IMG_WIDTH  = X_train.shape[2]\n",
        "IMG_CHANNELS = X_train.shape[3]\n",
        "num_labels = 3  #Binary\n",
        "input_shape = (IMG_HEIGHT,IMG_WIDTH,IMG_CHANNELS)\n",
        "batch_size = 32\n"
      ],
      "metadata": {
        "id": "i0o0vbBpFiJg"
      },
      "execution_count": null,
      "outputs": []
    },
    {
      "cell_type": "code",
      "execution_count": null,
      "metadata": {
        "id": "DslM0dT8v3d1"
      },
      "outputs": [],
      "source": [
        "import tensorflow as tf\n",
        "from tensorflow.keras import models, layers, regularizers\n",
        "from tensorflow.keras import backend as K\n",
        "\n",
        "\n",
        "\n",
        "'''\n",
        "A few useful metrics and losses\n",
        "'''\n",
        "\n",
        "def dice_coef(y_true, y_pred):\n",
        "    y_true_f = K.flatten(y_true)\n",
        "    y_pred_f = K.flatten(y_pred)\n",
        "    intersection = K.sum(y_true_f * y_pred_f)\n",
        "    return (2.0 * intersection + 1.0) / (K.sum(y_true_f) + K.sum(y_pred_f) + 1.0)\n",
        "\n",
        "\n",
        "def jacard_coef(y_true, y_pred):\n",
        "    y_true_f = K.flatten(y_true)\n",
        "    y_pred_f = K.flatten(y_pred)\n",
        "    intersection = K.sum(y_true_f * y_pred_f)\n",
        "    return (intersection + 1.0) / (K.sum(y_true_f) + K.sum(y_pred_f) - intersection + 1.0)\n",
        "\n",
        "\n",
        "def jacard_coef_loss(y_true, y_pred):\n",
        "    return -jacard_coef(y_true, y_pred)\n",
        "\n",
        "\n",
        "def dice_coef_loss(y_true, y_pred):\n",
        "    return -dice_coef(y_true, y_pred)\n",
        "\n"
      ]
    },
    {
      "cell_type": "code",
      "source": [
        "\n",
        "\n",
        "from keras.models import Model\n",
        "from keras.layers import Input, Conv2D, MaxPooling2D, UpSampling2D, concatenate, Conv2DTranspose, BatchNormalization, Dropout, Lambda\n",
        "\n",
        "\n",
        "\n",
        "\n",
        "################################################################\n",
        "def multi_unet_model(n_classes=3, IMG_HEIGHT=256, IMG_WIDTH=256, IMG_CHANNELS=1):\n",
        "#Build the model\n",
        "    inputs = Input((IMG_HEIGHT, IMG_WIDTH, IMG_CHANNELS))\n",
        "    #s = Lambda(lambda x: x / 255)(inputs)   #No need for this if we normalize our inputs beforehand\n",
        "    s = inputs\n",
        "\n",
        "    #Contraction path\n",
        "    c1 = Conv2D(16, (3, 3), activation='relu', kernel_initializer='he_normal', padding='same')(s)\n",
        "    c1 = Dropout(0.1)(c1)\n",
        "    c1 = Conv2D(16, (3, 3), activation='relu', kernel_initializer='he_normal', padding='same')(c1)\n",
        "    p1 = MaxPooling2D((2, 2))(c1)\n",
        "\n",
        "    c2 = Conv2D(32, (3, 3), activation='relu', kernel_initializer='he_normal', padding='same')(p1)\n",
        "    c2 = Dropout(0.1)(c2)\n",
        "    c2 = Conv2D(32, (3, 3), activation='relu', kernel_initializer='he_normal', padding='same')(c2)\n",
        "    p2 = MaxPooling2D((2, 2))(c2)\n",
        "\n",
        "    c3 = Conv2D(64, (3, 3), activation='relu', kernel_initializer='he_normal', padding='same')(p2)\n",
        "    c3 = Dropout(0.2)(c3)\n",
        "    c3 = Conv2D(64, (3, 3), activation='relu', kernel_initializer='he_normal', padding='same')(c3)\n",
        "    p3 = MaxPooling2D((2, 2))(c3)\n",
        "\n",
        "    c4 = Conv2D(128, (3, 3), activation='relu', kernel_initializer='he_normal', padding='same')(p3)\n",
        "    c4 = Dropout(0.2)(c4)\n",
        "    c4 = Conv2D(128, (3, 3), activation='relu', kernel_initializer='he_normal', padding='same')(c4)\n",
        "    p4 = MaxPooling2D(pool_size=(2, 2))(c4)\n",
        "\n",
        "    c5 = Conv2D(256, (3, 3), activation='relu', kernel_initializer='he_normal', padding='same')(p4)\n",
        "    c5 = Dropout(0.3)(c5)\n",
        "    c5 = Conv2D(256, (3, 3), activation='relu', kernel_initializer='he_normal', padding='same')(c5)\n",
        "\n",
        "    #Expansive path\n",
        "    u6 = Conv2DTranspose(128, (2, 2), strides=(2, 2), padding='same')(c5)\n",
        "    u6 = concatenate([u6, c4])\n",
        "    c6 = Conv2D(128, (3, 3), activation='relu', kernel_initializer='he_normal', padding='same')(u6)\n",
        "    c6 = Dropout(0.2)(c6)\n",
        "    c6 = Conv2D(128, (3, 3), activation='relu', kernel_initializer='he_normal', padding='same')(c6)\n",
        "\n",
        "    u7 = Conv2DTranspose(64, (2, 2), strides=(2, 2), padding='same')(c6)\n",
        "    u7 = concatenate([u7, c3])\n",
        "    c7 = Conv2D(64, (3, 3), activation='relu', kernel_initializer='he_normal', padding='same')(u7)\n",
        "    c7 = Dropout(0.2)(c7)\n",
        "    c7 = Conv2D(64, (3, 3), activation='relu', kernel_initializer='he_normal', padding='same')(c7)\n",
        "\n",
        "    u8 = Conv2DTranspose(32, (2, 2), strides=(2, 2), padding='same')(c7)\n",
        "    u8 = concatenate([u8, c2])\n",
        "    c8 = Conv2D(32, (3, 3), activation='relu', kernel_initializer='he_normal', padding='same')(u8)\n",
        "    c8 = Dropout(0.1)(c8)\n",
        "    c8 = Conv2D(32, (3, 3), activation='relu', kernel_initializer='he_normal', padding='same')(c8)\n",
        "\n",
        "    u9 = Conv2DTranspose(16, (2, 2), strides=(2, 2), padding='same')(c8)\n",
        "    u9 = concatenate([u9, c1], axis=3)\n",
        "    c9 = Conv2D(16, (3, 3), activation='relu', kernel_initializer='he_normal', padding='same')(u9)\n",
        "    c9 = Dropout(0.1)(c9)\n",
        "    c9 = Conv2D(16, (3, 3), activation='relu', kernel_initializer='he_normal', padding='same')(c9)\n",
        "\n",
        "    outputs = Conv2D(n_classes, (1, 1), activation='softmax')(c9)\n",
        "\n",
        "    model = Model(inputs=[inputs], outputs=[outputs])\n",
        "\n",
        "    #NOTE: Compile the model in the main program to make it easy to test with various loss functions\n",
        "    #model.compile(optimizer='adam', loss='binary_crossentropy', metrics=['accuracy'])\n",
        "\n",
        "    #model.summary()\n",
        "\n",
        "    return model\n"
      ],
      "metadata": {
        "id": "y7NX8o2Tk6MK"
      },
      "execution_count": null,
      "outputs": []
    },
    {
      "cell_type": "code",
      "source": [
        "\n",
        "IMG_HEIGHT = 256\n",
        "IMG_WIDTH = 256\n",
        "IMG_CHANNELS = 1\n",
        "input_shape = (IMG_HEIGHT,IMG_WIDTH,IMG_CHANNELS)"
      ],
      "metadata": {
        "id": "8sgQxQAkljUw"
      },
      "execution_count": null,
      "outputs": []
    },
    {
      "cell_type": "code",
      "source": [
        "def get_model():\n",
        "  return multi_unet_model(n_classes= n_classes,IMG_HEIGHT=IMG_HEIGHT,IMG_WIDTH=IMG_WIDTH,IMG_CHANNELS=IMG_CHANNELS)"
      ],
      "metadata": {
        "id": "93sb1ZSZlH6R"
      },
      "execution_count": null,
      "outputs": []
    },
    {
      "cell_type": "code",
      "source": [
        "model = get_model()\n"
      ],
      "metadata": {
        "id": "2Xe-mMIflHtz"
      },
      "execution_count": null,
      "outputs": []
    },
    {
      "cell_type": "code",
      "source": [
        "import segmentation_models as sm\n",
        "loss_fun = sm.losses.CategoricalFocalLoss(alpha=0.25, gamma=2.0, class_indexes=None)"
      ],
      "metadata": {
        "colab": {
          "base_uri": "https://localhost:8080/"
        },
        "id": "rYncObAYoiEw",
        "outputId": "1015ed9c-b168-49e3-a57f-fbd6892a369a"
      },
      "execution_count": null,
      "outputs": [
        {
          "output_type": "stream",
          "name": "stdout",
          "text": [
            "Segmentation Models: using `keras` framework.\n"
          ]
        }
      ]
    },
    {
      "cell_type": "code",
      "source": [
        "model.compile(optimizer='adam',loss = loss_fun,metrics =['accuracy',sm.metrics.FScore(),sm.metrics.IOUScore()] )"
      ],
      "metadata": {
        "id": "GzEYgTohmN8L"
      },
      "execution_count": null,
      "outputs": []
    },
    {
      "cell_type": "code",
      "source": [
        "model.summary()"
      ],
      "metadata": {
        "id": "4DWMS70pnQBB",
        "colab": {
          "base_uri": "https://localhost:8080/"
        },
        "outputId": "8f97752b-7567-4259-b691-70e35610d7e3"
      },
      "execution_count": null,
      "outputs": [
        {
          "output_type": "stream",
          "name": "stdout",
          "text": [
            "Model: \"model\"\n",
            "__________________________________________________________________________________________________\n",
            " Layer (type)                   Output Shape         Param #     Connected to                     \n",
            "==================================================================================================\n",
            " input_1 (InputLayer)           [(None, 256, 256, 1  0           []                               \n",
            "                                )]                                                                \n",
            "                                                                                                  \n",
            " conv2d (Conv2D)                (None, 256, 256, 16  160         ['input_1[0][0]']                \n",
            "                                )                                                                 \n",
            "                                                                                                  \n",
            " dropout (Dropout)              (None, 256, 256, 16  0           ['conv2d[0][0]']                 \n",
            "                                )                                                                 \n",
            "                                                                                                  \n",
            " conv2d_1 (Conv2D)              (None, 256, 256, 16  2320        ['dropout[0][0]']                \n",
            "                                )                                                                 \n",
            "                                                                                                  \n",
            " max_pooling2d (MaxPooling2D)   (None, 128, 128, 16  0           ['conv2d_1[0][0]']               \n",
            "                                )                                                                 \n",
            "                                                                                                  \n",
            " conv2d_2 (Conv2D)              (None, 128, 128, 32  4640        ['max_pooling2d[0][0]']          \n",
            "                                )                                                                 \n",
            "                                                                                                  \n",
            " dropout_1 (Dropout)            (None, 128, 128, 32  0           ['conv2d_2[0][0]']               \n",
            "                                )                                                                 \n",
            "                                                                                                  \n",
            " conv2d_3 (Conv2D)              (None, 128, 128, 32  9248        ['dropout_1[0][0]']              \n",
            "                                )                                                                 \n",
            "                                                                                                  \n",
            " max_pooling2d_1 (MaxPooling2D)  (None, 64, 64, 32)  0           ['conv2d_3[0][0]']               \n",
            "                                                                                                  \n",
            " conv2d_4 (Conv2D)              (None, 64, 64, 64)   18496       ['max_pooling2d_1[0][0]']        \n",
            "                                                                                                  \n",
            " dropout_2 (Dropout)            (None, 64, 64, 64)   0           ['conv2d_4[0][0]']               \n",
            "                                                                                                  \n",
            " conv2d_5 (Conv2D)              (None, 64, 64, 64)   36928       ['dropout_2[0][0]']              \n",
            "                                                                                                  \n",
            " max_pooling2d_2 (MaxPooling2D)  (None, 32, 32, 64)  0           ['conv2d_5[0][0]']               \n",
            "                                                                                                  \n",
            " conv2d_6 (Conv2D)              (None, 32, 32, 128)  73856       ['max_pooling2d_2[0][0]']        \n",
            "                                                                                                  \n",
            " dropout_3 (Dropout)            (None, 32, 32, 128)  0           ['conv2d_6[0][0]']               \n",
            "                                                                                                  \n",
            " conv2d_7 (Conv2D)              (None, 32, 32, 128)  147584      ['dropout_3[0][0]']              \n",
            "                                                                                                  \n",
            " max_pooling2d_3 (MaxPooling2D)  (None, 16, 16, 128)  0          ['conv2d_7[0][0]']               \n",
            "                                                                                                  \n",
            " conv2d_8 (Conv2D)              (None, 16, 16, 256)  295168      ['max_pooling2d_3[0][0]']        \n",
            "                                                                                                  \n",
            " dropout_4 (Dropout)            (None, 16, 16, 256)  0           ['conv2d_8[0][0]']               \n",
            "                                                                                                  \n",
            " conv2d_9 (Conv2D)              (None, 16, 16, 256)  590080      ['dropout_4[0][0]']              \n",
            "                                                                                                  \n",
            " conv2d_transpose (Conv2DTransp  (None, 32, 32, 128)  131200     ['conv2d_9[0][0]']               \n",
            " ose)                                                                                             \n",
            "                                                                                                  \n",
            " concatenate (Concatenate)      (None, 32, 32, 256)  0           ['conv2d_transpose[0][0]',       \n",
            "                                                                  'conv2d_7[0][0]']               \n",
            "                                                                                                  \n",
            " conv2d_10 (Conv2D)             (None, 32, 32, 128)  295040      ['concatenate[0][0]']            \n",
            "                                                                                                  \n",
            " dropout_5 (Dropout)            (None, 32, 32, 128)  0           ['conv2d_10[0][0]']              \n",
            "                                                                                                  \n",
            " conv2d_11 (Conv2D)             (None, 32, 32, 128)  147584      ['dropout_5[0][0]']              \n",
            "                                                                                                  \n",
            " conv2d_transpose_1 (Conv2DTran  (None, 64, 64, 64)  32832       ['conv2d_11[0][0]']              \n",
            " spose)                                                                                           \n",
            "                                                                                                  \n",
            " concatenate_1 (Concatenate)    (None, 64, 64, 128)  0           ['conv2d_transpose_1[0][0]',     \n",
            "                                                                  'conv2d_5[0][0]']               \n",
            "                                                                                                  \n",
            " conv2d_12 (Conv2D)             (None, 64, 64, 64)   73792       ['concatenate_1[0][0]']          \n",
            "                                                                                                  \n",
            " dropout_6 (Dropout)            (None, 64, 64, 64)   0           ['conv2d_12[0][0]']              \n",
            "                                                                                                  \n",
            " conv2d_13 (Conv2D)             (None, 64, 64, 64)   36928       ['dropout_6[0][0]']              \n",
            "                                                                                                  \n",
            " conv2d_transpose_2 (Conv2DTran  (None, 128, 128, 32  8224       ['conv2d_13[0][0]']              \n",
            " spose)                         )                                                                 \n",
            "                                                                                                  \n",
            " concatenate_2 (Concatenate)    (None, 128, 128, 64  0           ['conv2d_transpose_2[0][0]',     \n",
            "                                )                                 'conv2d_3[0][0]']               \n",
            "                                                                                                  \n",
            " conv2d_14 (Conv2D)             (None, 128, 128, 32  18464       ['concatenate_2[0][0]']          \n",
            "                                )                                                                 \n",
            "                                                                                                  \n",
            " dropout_7 (Dropout)            (None, 128, 128, 32  0           ['conv2d_14[0][0]']              \n",
            "                                )                                                                 \n",
            "                                                                                                  \n",
            " conv2d_15 (Conv2D)             (None, 128, 128, 32  9248        ['dropout_7[0][0]']              \n",
            "                                )                                                                 \n",
            "                                                                                                  \n",
            " conv2d_transpose_3 (Conv2DTran  (None, 256, 256, 16  2064       ['conv2d_15[0][0]']              \n",
            " spose)                         )                                                                 \n",
            "                                                                                                  \n",
            " concatenate_3 (Concatenate)    (None, 256, 256, 32  0           ['conv2d_transpose_3[0][0]',     \n",
            "                                )                                 'conv2d_1[0][0]']               \n",
            "                                                                                                  \n",
            " conv2d_16 (Conv2D)             (None, 256, 256, 16  4624        ['concatenate_3[0][0]']          \n",
            "                                )                                                                 \n",
            "                                                                                                  \n",
            " dropout_8 (Dropout)            (None, 256, 256, 16  0           ['conv2d_16[0][0]']              \n",
            "                                )                                                                 \n",
            "                                                                                                  \n",
            " conv2d_17 (Conv2D)             (None, 256, 256, 16  2320        ['dropout_8[0][0]']              \n",
            "                                )                                                                 \n",
            "                                                                                                  \n",
            " conv2d_18 (Conv2D)             (None, 256, 256, 3)  51          ['conv2d_17[0][0]']              \n",
            "                                                                                                  \n",
            "==================================================================================================\n",
            "Total params: 1,940,851\n",
            "Trainable params: 1,940,851\n",
            "Non-trainable params: 0\n",
            "__________________________________________________________________________________________________\n"
          ]
        }
      ]
    },
    {
      "cell_type": "code",
      "source": [
        "history = model.fit (X_train,y_train_cat,\n",
        "                     batch_size = 4,\n",
        "                     verbose = 1,\n",
        "                     epochs = 50,\n",
        "                     validation_data= (X_val,y_val_cat),\n",
        "                     shuffle = False)"
      ],
      "metadata": {
        "id": "GcJfmvCmnb0S",
        "colab": {
          "base_uri": "https://localhost:8080/"
        },
        "outputId": "1378104f-535f-4c82-d7c0-0de78746cab1"
      },
      "execution_count": null,
      "outputs": [
        {
          "output_type": "stream",
          "name": "stdout",
          "text": [
            "Epoch 1/50\n",
            "10/10 [==============================] - 4s 112ms/step - loss: 0.0021 - accuracy: 0.9759 - f1-score: 0.6473 - iou_score: 0.5504 - val_loss: 0.0022 - val_accuracy: 0.9781 - val_f1-score: 0.6263 - val_iou_score: 0.5322\n",
            "Epoch 2/50\n",
            "10/10 [==============================] - 1s 51ms/step - loss: 0.0019 - accuracy: 0.9775 - f1-score: 0.6244 - iou_score: 0.5245 - val_loss: 0.0021 - val_accuracy: 0.9784 - val_f1-score: 0.6241 - val_iou_score: 0.5278\n",
            "Epoch 3/50\n",
            "10/10 [==============================] - 1s 51ms/step - loss: 0.0018 - accuracy: 0.9782 - f1-score: 0.6375 - iou_score: 0.5369 - val_loss: 0.0020 - val_accuracy: 0.9784 - val_f1-score: 0.6354 - val_iou_score: 0.5359\n",
            "Epoch 4/50\n",
            "10/10 [==============================] - 1s 52ms/step - loss: 0.0017 - accuracy: 0.9797 - f1-score: 0.6637 - iou_score: 0.5601 - val_loss: 0.0018 - val_accuracy: 0.9796 - val_f1-score: 0.6432 - val_iou_score: 0.5414\n",
            "Epoch 5/50\n",
            "10/10 [==============================] - 1s 52ms/step - loss: 0.0016 - accuracy: 0.9811 - f1-score: 0.6718 - iou_score: 0.5684 - val_loss: 0.0021 - val_accuracy: 0.9792 - val_f1-score: 0.6467 - val_iou_score: 0.5458\n",
            "Epoch 6/50\n",
            "10/10 [==============================] - 1s 52ms/step - loss: 0.0015 - accuracy: 0.9828 - f1-score: 0.6915 - iou_score: 0.5850 - val_loss: 0.0023 - val_accuracy: 0.9796 - val_f1-score: 0.6433 - val_iou_score: 0.5454\n",
            "Epoch 7/50\n",
            "10/10 [==============================] - 1s 52ms/step - loss: 0.0015 - accuracy: 0.9822 - f1-score: 0.6877 - iou_score: 0.5818 - val_loss: 0.0021 - val_accuracy: 0.9799 - val_f1-score: 0.6490 - val_iou_score: 0.5508\n",
            "Epoch 8/50\n",
            "10/10 [==============================] - 1s 54ms/step - loss: 0.0014 - accuracy: 0.9835 - f1-score: 0.6982 - iou_score: 0.5908 - val_loss: 0.0021 - val_accuracy: 0.9803 - val_f1-score: 0.6635 - val_iou_score: 0.5589\n",
            "Epoch 9/50\n",
            "10/10 [==============================] - 1s 52ms/step - loss: 0.0014 - accuracy: 0.9843 - f1-score: 0.7030 - iou_score: 0.5939 - val_loss: 0.0029 - val_accuracy: 0.9801 - val_f1-score: 0.6391 - val_iou_score: 0.5407\n",
            "Epoch 10/50\n",
            "10/10 [==============================] - 1s 53ms/step - loss: 0.0013 - accuracy: 0.9848 - f1-score: 0.7067 - iou_score: 0.5959 - val_loss: 0.0018 - val_accuracy: 0.9800 - val_f1-score: 0.6624 - val_iou_score: 0.5567\n",
            "Epoch 11/50\n",
            "10/10 [==============================] - 1s 52ms/step - loss: 0.0013 - accuracy: 0.9855 - f1-score: 0.7141 - iou_score: 0.6017 - val_loss: 0.0027 - val_accuracy: 0.9795 - val_f1-score: 0.6299 - val_iou_score: 0.5282\n",
            "Epoch 12/50\n",
            "10/10 [==============================] - 1s 52ms/step - loss: 0.0014 - accuracy: 0.9862 - f1-score: 0.7086 - iou_score: 0.5943 - val_loss: 0.0021 - val_accuracy: 0.9812 - val_f1-score: 0.6447 - val_iou_score: 0.5401\n",
            "Epoch 13/50\n",
            "10/10 [==============================] - 1s 53ms/step - loss: 0.0014 - accuracy: 0.9861 - f1-score: 0.6931 - iou_score: 0.5845 - val_loss: 0.0026 - val_accuracy: 0.9789 - val_f1-score: 0.6514 - val_iou_score: 0.5529\n",
            "Epoch 14/50\n",
            "10/10 [==============================] - 1s 52ms/step - loss: 0.0011 - accuracy: 0.9867 - f1-score: 0.7451 - iou_score: 0.6346 - val_loss: 0.0029 - val_accuracy: 0.9799 - val_f1-score: 0.6617 - val_iou_score: 0.5640\n",
            "Epoch 15/50\n",
            "10/10 [==============================] - 1s 53ms/step - loss: 0.0011 - accuracy: 0.9869 - f1-score: 0.7425 - iou_score: 0.6307 - val_loss: 0.0031 - val_accuracy: 0.9789 - val_f1-score: 0.6273 - val_iou_score: 0.5353\n",
            "Epoch 16/50\n",
            "10/10 [==============================] - 1s 53ms/step - loss: 0.0012 - accuracy: 0.9864 - f1-score: 0.7412 - iou_score: 0.6308 - val_loss: 0.0040 - val_accuracy: 0.9795 - val_f1-score: 0.6231 - val_iou_score: 0.5399\n",
            "Epoch 17/50\n",
            "10/10 [==============================] - 1s 55ms/step - loss: 0.0012 - accuracy: 0.9868 - f1-score: 0.7212 - iou_score: 0.6102 - val_loss: 0.0038 - val_accuracy: 0.9791 - val_f1-score: 0.6280 - val_iou_score: 0.5380\n",
            "Epoch 18/50\n",
            "10/10 [==============================] - 1s 52ms/step - loss: 0.0013 - accuracy: 0.9858 - f1-score: 0.7331 - iou_score: 0.6209 - val_loss: 0.0023 - val_accuracy: 0.9794 - val_f1-score: 0.6374 - val_iou_score: 0.5406\n",
            "Epoch 19/50\n",
            "10/10 [==============================] - 1s 52ms/step - loss: 0.0013 - accuracy: 0.9836 - f1-score: 0.6940 - iou_score: 0.5853 - val_loss: 0.0024 - val_accuracy: 0.9783 - val_f1-score: 0.6474 - val_iou_score: 0.5417\n",
            "Epoch 20/50\n",
            "10/10 [==============================] - 1s 52ms/step - loss: 0.0010 - accuracy: 0.9881 - f1-score: 0.7514 - iou_score: 0.6383 - val_loss: 0.0020 - val_accuracy: 0.9799 - val_f1-score: 0.6687 - val_iou_score: 0.5624\n",
            "Epoch 21/50\n",
            "10/10 [==============================] - 1s 53ms/step - loss: 9.3149e-04 - accuracy: 0.9899 - f1-score: 0.7533 - iou_score: 0.6415 - val_loss: 0.0026 - val_accuracy: 0.9797 - val_f1-score: 0.6799 - val_iou_score: 0.5750\n",
            "Epoch 22/50\n",
            "10/10 [==============================] - 1s 53ms/step - loss: 7.5171e-04 - accuracy: 0.9915 - f1-score: 0.8082 - iou_score: 0.7036 - val_loss: 0.0029 - val_accuracy: 0.9821 - val_f1-score: 0.7014 - val_iou_score: 0.5972\n",
            "Epoch 23/50\n",
            "10/10 [==============================] - 1s 52ms/step - loss: 7.8257e-04 - accuracy: 0.9907 - f1-score: 0.8151 - iou_score: 0.7114 - val_loss: 0.0041 - val_accuracy: 0.9801 - val_f1-score: 0.6397 - val_iou_score: 0.5507\n",
            "Epoch 24/50\n",
            "10/10 [==============================] - 1s 53ms/step - loss: 7.8589e-04 - accuracy: 0.9908 - f1-score: 0.7908 - iou_score: 0.6836 - val_loss: 0.0044 - val_accuracy: 0.9791 - val_f1-score: 0.6289 - val_iou_score: 0.5450\n",
            "Epoch 25/50\n",
            "10/10 [==============================] - 1s 53ms/step - loss: 7.7407e-04 - accuracy: 0.9902 - f1-score: 0.7925 - iou_score: 0.6867 - val_loss: 0.0025 - val_accuracy: 0.9807 - val_f1-score: 0.6869 - val_iou_score: 0.5849\n",
            "Epoch 26/50\n",
            "10/10 [==============================] - 1s 55ms/step - loss: 7.1749e-04 - accuracy: 0.9919 - f1-score: 0.8039 - iou_score: 0.6968 - val_loss: 0.0023 - val_accuracy: 0.9775 - val_f1-score: 0.6708 - val_iou_score: 0.5607\n",
            "Epoch 27/50\n",
            "10/10 [==============================] - 1s 53ms/step - loss: 6.6096e-04 - accuracy: 0.9923 - f1-score: 0.7863 - iou_score: 0.6758 - val_loss: 0.0024 - val_accuracy: 0.9810 - val_f1-score: 0.6835 - val_iou_score: 0.5804\n",
            "Epoch 28/50\n",
            "10/10 [==============================] - 1s 53ms/step - loss: 5.4211e-04 - accuracy: 0.9935 - f1-score: 0.8376 - iou_score: 0.7396 - val_loss: 0.0058 - val_accuracy: 0.9799 - val_f1-score: 0.6335 - val_iou_score: 0.5543\n",
            "Epoch 29/50\n",
            "10/10 [==============================] - 1s 53ms/step - loss: 5.9239e-04 - accuracy: 0.9931 - f1-score: 0.8439 - iou_score: 0.7488 - val_loss: 0.0032 - val_accuracy: 0.9805 - val_f1-score: 0.6542 - val_iou_score: 0.5617\n",
            "Epoch 30/50\n",
            "10/10 [==============================] - 1s 53ms/step - loss: 5.0543e-04 - accuracy: 0.9941 - f1-score: 0.8443 - iou_score: 0.7496 - val_loss: 0.0030 - val_accuracy: 0.9805 - val_f1-score: 0.7168 - val_iou_score: 0.6108\n",
            "Epoch 31/50\n",
            "10/10 [==============================] - 1s 56ms/step - loss: 4.0747e-04 - accuracy: 0.9949 - f1-score: 0.8611 - iou_score: 0.7700 - val_loss: 0.0028 - val_accuracy: 0.9812 - val_f1-score: 0.7106 - val_iou_score: 0.6038\n",
            "Epoch 32/50\n",
            "10/10 [==============================] - 1s 53ms/step - loss: 4.3106e-04 - accuracy: 0.9952 - f1-score: 0.8593 - iou_score: 0.7679 - val_loss: 0.0030 - val_accuracy: 0.9808 - val_f1-score: 0.6910 - val_iou_score: 0.5947\n",
            "Epoch 33/50\n",
            "10/10 [==============================] - 1s 53ms/step - loss: 3.3908e-04 - accuracy: 0.9960 - f1-score: 0.8711 - iou_score: 0.7847 - val_loss: 0.0037 - val_accuracy: 0.9806 - val_f1-score: 0.6709 - val_iou_score: 0.5793\n",
            "Epoch 34/50\n",
            "10/10 [==============================] - 1s 52ms/step - loss: 3.0822e-04 - accuracy: 0.9964 - f1-score: 0.8865 - iou_score: 0.8065 - val_loss: 0.0037 - val_accuracy: 0.9820 - val_f1-score: 0.7127 - val_iou_score: 0.6143\n",
            "Epoch 35/50\n",
            "10/10 [==============================] - 1s 53ms/step - loss: 3.1260e-04 - accuracy: 0.9962 - f1-score: 0.8960 - iou_score: 0.8197 - val_loss: 0.0029 - val_accuracy: 0.9807 - val_f1-score: 0.7191 - val_iou_score: 0.6160\n",
            "Epoch 36/50\n",
            "10/10 [==============================] - 1s 53ms/step - loss: 3.7175e-04 - accuracy: 0.9952 - f1-score: 0.8695 - iou_score: 0.7827 - val_loss: 0.0034 - val_accuracy: 0.9801 - val_f1-score: 0.6776 - val_iou_score: 0.5846\n",
            "Epoch 37/50\n",
            "10/10 [==============================] - 1s 55ms/step - loss: 3.5510e-04 - accuracy: 0.9958 - f1-score: 0.8829 - iou_score: 0.8022 - val_loss: 0.0039 - val_accuracy: 0.9807 - val_f1-score: 0.6648 - val_iou_score: 0.5793\n",
            "Epoch 38/50\n",
            "10/10 [==============================] - 1s 55ms/step - loss: 3.5672e-04 - accuracy: 0.9954 - f1-score: 0.8825 - iou_score: 0.8008 - val_loss: 0.0038 - val_accuracy: 0.9806 - val_f1-score: 0.6635 - val_iou_score: 0.5806\n",
            "Epoch 39/50\n",
            "10/10 [==============================] - 1s 52ms/step - loss: 3.8157e-04 - accuracy: 0.9954 - f1-score: 0.8639 - iou_score: 0.7747 - val_loss: 0.0030 - val_accuracy: 0.9797 - val_f1-score: 0.7149 - val_iou_score: 0.6100\n",
            "Epoch 40/50\n",
            "10/10 [==============================] - 1s 53ms/step - loss: 3.5436e-04 - accuracy: 0.9958 - f1-score: 0.8701 - iou_score: 0.7842 - val_loss: 0.0027 - val_accuracy: 0.9812 - val_f1-score: 0.7047 - val_iou_score: 0.6037\n",
            "Epoch 41/50\n",
            "10/10 [==============================] - 1s 52ms/step - loss: 3.8485e-04 - accuracy: 0.9955 - f1-score: 0.8738 - iou_score: 0.7888 - val_loss: 0.0038 - val_accuracy: 0.9804 - val_f1-score: 0.6898 - val_iou_score: 0.5900\n",
            "Epoch 42/50\n",
            "10/10 [==============================] - 1s 53ms/step - loss: 3.0285e-04 - accuracy: 0.9962 - f1-score: 0.8762 - iou_score: 0.7914 - val_loss: 0.0035 - val_accuracy: 0.9811 - val_f1-score: 0.7120 - val_iou_score: 0.6107\n",
            "Epoch 43/50\n",
            "10/10 [==============================] - 1s 53ms/step - loss: 2.2733e-04 - accuracy: 0.9972 - f1-score: 0.9038 - iou_score: 0.8322 - val_loss: 0.0036 - val_accuracy: 0.9814 - val_f1-score: 0.7083 - val_iou_score: 0.6121\n",
            "Epoch 44/50\n",
            "10/10 [==============================] - 1s 53ms/step - loss: 2.2678e-04 - accuracy: 0.9972 - f1-score: 0.9136 - iou_score: 0.8475 - val_loss: 0.0033 - val_accuracy: 0.9824 - val_f1-score: 0.7289 - val_iou_score: 0.6278\n",
            "Epoch 45/50\n",
            "10/10 [==============================] - 1s 53ms/step - loss: 2.0851e-04 - accuracy: 0.9976 - f1-score: 0.9149 - iou_score: 0.8491 - val_loss: 0.0037 - val_accuracy: 0.9811 - val_f1-score: 0.7056 - val_iou_score: 0.6078\n",
            "Epoch 46/50\n",
            "10/10 [==============================] - 1s 52ms/step - loss: 2.0092e-04 - accuracy: 0.9975 - f1-score: 0.9149 - iou_score: 0.8487 - val_loss: 0.0047 - val_accuracy: 0.9805 - val_f1-score: 0.6801 - val_iou_score: 0.5928\n",
            "Epoch 47/50\n",
            "10/10 [==============================] - 1s 51ms/step - loss: 2.1029e-04 - accuracy: 0.9976 - f1-score: 0.9195 - iou_score: 0.8567 - val_loss: 0.0028 - val_accuracy: 0.9828 - val_f1-score: 0.7451 - val_iou_score: 0.6403\n",
            "Epoch 48/50\n",
            "10/10 [==============================] - 1s 52ms/step - loss: 2.0782e-04 - accuracy: 0.9978 - f1-score: 0.9057 - iou_score: 0.8356 - val_loss: 0.0031 - val_accuracy: 0.9813 - val_f1-score: 0.7162 - val_iou_score: 0.6163\n",
            "Epoch 49/50\n",
            "10/10 [==============================] - 1s 54ms/step - loss: 1.7479e-04 - accuracy: 0.9980 - f1-score: 0.9174 - iou_score: 0.8531 - val_loss: 0.0038 - val_accuracy: 0.9815 - val_f1-score: 0.7053 - val_iou_score: 0.6102\n",
            "Epoch 50/50\n",
            "10/10 [==============================] - 1s 53ms/step - loss: 1.7105e-04 - accuracy: 0.9980 - f1-score: 0.9233 - iou_score: 0.8622 - val_loss: 0.0040 - val_accuracy: 0.9811 - val_f1-score: 0.7111 - val_iou_score: 0.6136\n"
          ]
        }
      ]
    },
    {
      "cell_type": "code",
      "source": [
        "model.save('/content/drive/MyDrive/0_epoch_weights/accurcy0100.h5')"
      ],
      "metadata": {
        "id": "izK8kV01nbxH"
      },
      "execution_count": null,
      "outputs": []
    },
    {
      "cell_type": "code",
      "source": [],
      "metadata": {
        "id": "jJ3_yCJPnbqh"
      },
      "execution_count": null,
      "outputs": []
    },
    {
      "cell_type": "code",
      "source": [
        "_ , acc = model.evaluate(X_val,y_val_cat)"
      ],
      "metadata": {
        "colab": {
          "base_uri": "https://localhost:8080/"
        },
        "id": "3bRJt4cEnbm6",
        "outputId": "8ffc905d-af0e-4471-a1d0-fd72503cc0ff"
      },
      "execution_count": null,
      "outputs": [
        {
          "output_type": "stream",
          "name": "stdout",
          "text": [
            "3/3 [==============================] - 3s 514ms/step - loss: 0.0017 - accuracy: 0.9859\n"
          ]
        }
      ]
    },
    {
      "cell_type": "code",
      "source": [
        "print('accuracy is = ',(acc*100.0),'%')"
      ],
      "metadata": {
        "colab": {
          "base_uri": "https://localhost:8080/"
        },
        "id": "KXpHpq3oqDi_",
        "outputId": "ce67cbcf-00a1-40d7-9546-4aa310c7de87"
      },
      "execution_count": null,
      "outputs": [
        {
          "output_type": "stream",
          "name": "stdout",
          "text": [
            "accuracy is =  98.59040975570679 %\n"
          ]
        }
      ]
    },
    {
      "cell_type": "code",
      "source": [
        "\n",
        "###\n",
        "#plot the training and validation accuracy and loss at each epoch\n",
        "loss = history.history['loss']\n",
        "val_loss = history.history['val_loss']\n",
        "epochs = range(1, len(loss) + 1)\n",
        "plt.plot(epochs, loss, 'y', label='Training loss')\n",
        "plt.plot(epochs, val_loss, 'r', label='Validation loss')\n",
        "plt.title('Training and validation loss')\n",
        "plt.xlabel('Epochs')\n",
        "plt.ylabel('Loss')\n",
        "plt.legend()\n",
        "plt.show()\n",
        "\n",
        "acc = history.history['acc']\n",
        "val_acc = history.history['val_acc']\n",
        "\n",
        "plt.plot(epochs, acc, 'y', label='Training Accuracy')\n",
        "plt.plot(epochs, val_acc, 'r', label='Validation Accuracy')\n",
        "plt.title('Training and validation Accuracy')\n",
        "plt.xlabel('Epochs')\n",
        "plt.ylabel('Accuracy')\n",
        "plt.legend()\n",
        "plt.show()\n"
      ],
      "metadata": {
        "colab": {
          "base_uri": "https://localhost:8080/",
          "height": 513
        },
        "id": "ulQIHUE5nbjb",
        "outputId": "2e2b455f-3b0e-4e0b-d081-9171b199f2c3"
      },
      "execution_count": null,
      "outputs": [
        {
          "output_type": "display_data",
          "data": {
            "text/plain": [
              "<Figure size 432x288 with 1 Axes>"
            ],
            "image/png": "[encoded data removed]"
          },
          "metadata": {
            "needs_background": "light"
          }
        },
        {
          "output_type": "error",
          "ename": "KeyError",
          "evalue": "ignored",
          "traceback": [
            "\u001b[0;31m---------------------------------------------------------------------------\u001b[0m",
            "\u001b[0;31mKeyError\u001b[0m                                  Traceback (most recent call last)",
            "\u001b[0;32m<ipython-input-43-777b139e999f>\u001b[0m in \u001b[0;36m<module>\u001b[0;34m()\u001b[0m\n\u001b[1;32m     13\u001b[0m \u001b[0mplt\u001b[0m\u001b[0;34m.\u001b[0m\u001b[0mshow\u001b[0m\u001b[0;34m(\u001b[0m\u001b[0;34m)\u001b[0m\u001b[0;34m\u001b[0m\u001b[0;34m\u001b[0m\u001b[0m\n\u001b[1;32m     14\u001b[0m \u001b[0;34m\u001b[0m\u001b[0m\n\u001b[0;32m---> 15\u001b[0;31m \u001b[0macc\u001b[0m \u001b[0;34m=\u001b[0m \u001b[0mhistory\u001b[0m\u001b[0;34m.\u001b[0m\u001b[0mhistory\u001b[0m\u001b[0;34m[\u001b[0m\u001b[0;34m'acc'\u001b[0m\u001b[0;34m]\u001b[0m\u001b[0;34m\u001b[0m\u001b[0;34m\u001b[0m\u001b[0m\n\u001b[0m\u001b[1;32m     16\u001b[0m \u001b[0mval_acc\u001b[0m \u001b[0;34m=\u001b[0m \u001b[0mhistory\u001b[0m\u001b[0;34m.\u001b[0m\u001b[0mhistory\u001b[0m\u001b[0;34m[\u001b[0m\u001b[0;34m'val_acc'\u001b[0m\u001b[0;34m]\u001b[0m\u001b[0;34m\u001b[0m\u001b[0;34m\u001b[0m\u001b[0m\n\u001b[1;32m     17\u001b[0m \u001b[0;34m\u001b[0m\u001b[0m\n",
            "\u001b[0;31mKeyError\u001b[0m: 'acc'"
          ]
        }
      ]
    },
    {
      "cell_type": "code",
      "source": [
        "model.load_weights(\"/content/drive/MyDrive/0_epoch_weights/accurcy0100.h5\")"
      ],
      "metadata": {
        "id": "BgZhdWShnbg1"
      },
      "execution_count": null,
      "outputs": []
    },
    {
      "cell_type": "code",
      "source": [
        "y_pred = model.predict(X_test)"
      ],
      "metadata": {
        "id": "6c6L2-psnbd_"
      },
      "execution_count": null,
      "outputs": []
    },
    {
      "cell_type": "code",
      "source": [
        "cv2_imshow(X_test[0])"
      ],
      "metadata": {
        "colab": {
          "base_uri": "https://localhost:8080/",
          "height": 273
        },
        "id": "zMEyRDXqxVMF",
        "outputId": "d4bc92cd-80f8-412e-bd0f-8fe59abd3694"
      },
      "execution_count": null,
      "outputs": [
        {
          "output_type": "display_data",
          "data": {
            "text/plain": [
              "<PIL.Image.Image image mode=RGB size=256x256 at 0x7F48501D0990>"
            ],
            "image/png": "[encoded data removed]"
          },
          "metadata": {}
        }
      ]
    },
    {
      "cell_type": "code",
      "source": [
        "np.shape(y_pred)"
      ],
      "metadata": {
        "colab": {
          "base_uri": "https://localhost:8080/"
        },
        "id": "-gDP9jwtnbbQ",
        "outputId": "5f3bc403-0d9d-4dca-8cb0-3498cd2a04fd"
      },
      "execution_count": null,
      "outputs": [
        {
          "output_type": "execute_result",
          "data": {
            "text/plain": [
              "(100, 256, 256, 3)"
            ]
          },
          "metadata": {},
          "execution_count": 34
        }
      ]
    },
    {
      "cell_type": "code",
      "source": [
        "y_pred_argmax = np.argmax(y_pred,axis=3)"
      ],
      "metadata": {
        "id": "plhUPkRtnbYf"
      },
      "execution_count": null,
      "outputs": []
    },
    {
      "cell_type": "code",
      "source": [
        "np.shape(y_pred_argmax)"
      ],
      "metadata": {
        "colab": {
          "base_uri": "https://localhost:8080/"
        },
        "id": "ILH6fRoXnbV7",
        "outputId": "68d41091-421d-430e-a248-d1cc30e76c4a"
      },
      "execution_count": null,
      "outputs": [
        {
          "output_type": "execute_result",
          "data": {
            "text/plain": [
              "(100, 256, 256)"
            ]
          },
          "metadata": {},
          "execution_count": 36
        }
      ]
    },
    {
      "cell_type": "code",
      "source": [
        "np.unique(y_pred_argmax)"
      ],
      "metadata": {
        "colab": {
          "base_uri": "https://localhost:8080/"
        },
        "id": "ue6OFwovnbTH",
        "outputId": "95534880-3d84-418d-ff21-da80abd43d8e"
      },
      "execution_count": null,
      "outputs": [
        {
          "output_type": "execute_result",
          "data": {
            "text/plain": [
              "array([0, 1, 2])"
            ]
          },
          "metadata": {},
          "execution_count": 33
        }
      ]
    },
    {
      "cell_type": "code",
      "source": [
        "y_pred_argmax = np.where(y_pred_argmax == 1,76,y_pred_argmax)\n",
        "y_pred_argmax = np.where(y_pred_argmax == 2,149,y_pred_argmax)\n",
        "\n"
      ],
      "metadata": {
        "id": "Rq37VjuZnbNv"
      },
      "execution_count": null,
      "outputs": []
    },
    {
      "cell_type": "code",
      "source": [
        "np.shape(y_pred_argmax)"
      ],
      "metadata": {
        "colab": {
          "base_uri": "https://localhost:8080/"
        },
        "id": "9jCgaN8mbPaS",
        "outputId": "6633262c-db60-456c-fcd0-ac034687d07a"
      },
      "execution_count": null,
      "outputs": [
        {
          "output_type": "execute_result",
          "data": {
            "text/plain": [
              "(12, 256, 256)"
            ]
          },
          "metadata": {},
          "execution_count": 53
        }
      ]
    },
    {
      "cell_type": "code",
      "source": [
        "np.shape(y_test)"
      ],
      "metadata": {
        "colab": {
          "base_uri": "https://localhost:8080/"
        },
        "id": "GI8laHXIbS7W",
        "outputId": "53238350-06e3-4969-ea44-c6f34b600465"
      },
      "execution_count": null,
      "outputs": [
        {
          "output_type": "execute_result",
          "data": {
            "text/plain": [
              "(12, 256, 256, 1)"
            ]
          },
          "metadata": {},
          "execution_count": 58
        }
      ]
    },
    {
      "cell_type": "code",
      "source": [
        "np.shape(y_test.reshape(12,256,256))"
      ],
      "metadata": {
        "colab": {
          "base_uri": "https://localhost:8080/"
        },
        "id": "WsbeT8skbZGo",
        "outputId": "1b289991-5600-400c-8163-962c3b426793"
      },
      "execution_count": null,
      "outputs": [
        {
          "output_type": "execute_result",
          "data": {
            "text/plain": [
              "(12, 256, 256)"
            ]
          },
          "metadata": {},
          "execution_count": 61
        }
      ]
    },
    {
      "cell_type": "code",
      "source": [
        "cv2_imshow(X_test[0])"
      ],
      "metadata": {
        "id": "Y-EVk440nbLI"
      },
      "execution_count": null,
      "outputs": []
    },
    {
      "cell_type": "code",
      "source": [
        "cv2_imshow(y_pred_argmax[0])"
      ],
      "metadata": {
        "colab": {
          "base_uri": "https://localhost:8080/",
          "height": 273
        },
        "id": "ExShHmABY-ms",
        "outputId": "5d56799c-faa4-4760-89af-dbad1769a970"
      },
      "execution_count": null,
      "outputs": [
        {
          "output_type": "display_data",
          "data": {
            "text/plain": [
              "<PIL.Image.Image image mode=L size=256x256 at 0x7F1C9D70B590>"
            ],
            "image/png": "[encoded data removed]"
          },
          "metadata": {}
        }
      ]
    },
    {
      "cell_type": "code",
      "source": [
        "np.shape(y_test)"
      ],
      "metadata": {
        "colab": {
          "base_uri": "https://localhost:8080/"
        },
        "id": "hgOjZnf9Zv0l",
        "outputId": "e6375c2d-e5c4-4f1f-f6d6-c9a2e435bdfb"
      },
      "execution_count": null,
      "outputs": [
        {
          "output_type": "execute_result",
          "data": {
            "text/plain": [
              "(12, 256, 256, 1)"
            ]
          },
          "metadata": {},
          "execution_count": 49
        }
      ]
    },
    {
      "cell_type": "code",
      "source": [
        "import random\n",
        "test_img_number = random.randint(0, len(X_test))\n",
        "test_img = X_test[test_img_number]\n",
        "ground_truth=y_test[test_img_number]\n",
        "test_img_norm=test_img[:,:,0][:,:,None]\n",
        "test_img_input=np.expand_dims(test_img_norm, 0)\n",
        "prediction = (model.predict(test_img_input))\n",
        "predicted_img=np.argmax(prediction, axis=3)[0,:,:]\n",
        "\n",
        "\n",
        "plt.figure(figsize=(12, 8))\n",
        "plt.subplot(231)\n",
        "plt.title('Testing Image')\n",
        "plt.imshow(test_img[:,:,0])\n",
        "plt.subplot(232)\n",
        "plt.title('Testing Label')\n",
        "plt.imshow(ground_truth[:,:,0])\n",
        "plt.subplot(233)\n",
        "plt.title('Prediction on test image')\n",
        "plt.imshow(predicted_img)\n",
        "plt.show()\n"
      ],
      "metadata": {
        "colab": {
          "base_uri": "https://localhost:8080/",
          "height": 261
        },
        "id": "a6FEvef7ZNR_",
        "outputId": "359dfd71-e942-4ddd-afa4-d5d152f9388b"
      },
      "execution_count": null,
      "outputs": [
        {
          "output_type": "display_data",
          "data": {
            "text/plain": [
              "<Figure size 864x576 with 3 Axes>"
            ],
            "image/png": "[encoded data removed]"
          },
          "metadata": {
            "needs_background": "light"
          }
        }
      ]
    },
    {
      "cell_type": "code",
      "source": [],
      "metadata": {
        "id": "hAQtWnXPZoyW"
      },
      "execution_count": null,
      "outputs": []
    },
    {
      "cell_type": "code",
      "source": [],
      "metadata": {
        "id": "PElx54PgZovY"
      },
      "execution_count": null,
      "outputs": []
    },
    {
      "cell_type": "code",
      "source": [],
      "metadata": {
        "id": "ES4pABYwZoso"
      },
      "execution_count": null,
      "outputs": []
    },
    {
      "cell_type": "code",
      "source": [],
      "metadata": {
        "id": "7E_kIniqZopy"
      },
      "execution_count": null,
      "outputs": []
    },
    {
      "cell_type": "code",
      "source": [],
      "metadata": {
        "id": "cQLn8AoQZom0"
      },
      "execution_count": null,
      "outputs": []
    },
    {
      "cell_type": "code",
      "source": [],
      "metadata": {
        "id": "riJ36F7hZoko"
      },
      "execution_count": null,
      "outputs": []
    },
    {
      "cell_type": "code",
      "source": [],
      "metadata": {
        "id": "7TEfRN4VZohC"
      },
      "execution_count": null,
      "outputs": []
    },
    {
      "cell_type": "code",
      "source": [],
      "metadata": {
        "id": "dTigmo-8ZoeU"
      },
      "execution_count": null,
      "outputs": []
    },
    {
      "cell_type": "code",
      "source": [],
      "metadata": {
        "id": "2MSEmilVZobj"
      },
      "execution_count": null,
      "outputs": []
    },
    {
      "cell_type": "code",
      "source": [],
      "metadata": {
        "id": "iEGJN6CXZoYv"
      },
      "execution_count": null,
      "outputs": []
    },
    {
      "cell_type": "code",
      "source": [],
      "metadata": {
        "id": "6v9AXNg_ZoV5"
      },
      "execution_count": null,
      "outputs": []
    },
    {
      "cell_type": "code",
      "source": [],
      "metadata": {
        "id": "TmQM893-ZoTH"
      },
      "execution_count": null,
      "outputs": []
    },
    {
      "cell_type": "code",
      "source": [],
      "metadata": {
        "id": "htdw39hyZoQ5"
      },
      "execution_count": null,
      "outputs": []
    },
    {
      "cell_type": "code",
      "source": [],
      "metadata": {
        "id": "pnP6gVIBZoNe"
      },
      "execution_count": null,
      "outputs": []
    },
    {
      "cell_type": "code",
      "source": [],
      "metadata": {
        "id": "epF3n2QwZoK0"
      },
      "execution_count": null,
      "outputs": []
    },
    {
      "cell_type": "code",
      "source": [],
      "metadata": {
        "id": "mxQP3EryZoIm"
      },
      "execution_count": null,
      "outputs": []
    },
    {
      "cell_type": "code",
      "source": [],
      "metadata": {
        "id": "BAIe-wAeZoGo"
      },
      "execution_count": null,
      "outputs": []
    },
    {
      "cell_type": "code",
      "source": [],
      "metadata": {
        "id": "bDaubI3TZoDV"
      },
      "execution_count": null,
      "outputs": []
    },
    {
      "cell_type": "code",
      "source": [],
      "metadata": {
        "id": "4x7ZFmyLZoAM"
      },
      "execution_count": null,
      "outputs": []
    },
    {
      "cell_type": "code",
      "source": [],
      "metadata": {
        "id": "X0ndw5wRZn9V"
      },
      "execution_count": null,
      "outputs": []
    },
    {
      "cell_type": "code",
      "source": [],
      "metadata": {
        "id": "vcRYXgB0Zn6k"
      },
      "execution_count": null,
      "outputs": []
    },
    {
      "cell_type": "code",
      "source": [],
      "metadata": {
        "id": "9jTFVlSIZn4W"
      },
      "execution_count": null,
      "outputs": []
    },
    {
      "cell_type": "code",
      "source": [],
      "metadata": {
        "id": "JZOpzPkoZn2W"
      },
      "execution_count": null,
      "outputs": []
    },
    {
      "cell_type": "code",
      "source": [],
      "metadata": {
        "id": "m0vEGuSpZn0U"
      },
      "execution_count": null,
      "outputs": []
    },
    {
      "cell_type": "code",
      "source": [],
      "metadata": {
        "id": "MkoAKv0PZnx6"
      },
      "execution_count": null,
      "outputs": []
    },
    {
      "cell_type": "code",
      "source": [],
      "metadata": {
        "id": "MW5gu8p3ZnvJ"
      },
      "execution_count": null,
      "outputs": []
    },
    {
      "cell_type": "code",
      "source": [],
      "metadata": {
        "id": "vn87LUhhZnr5"
      },
      "execution_count": null,
      "outputs": []
    },
    {
      "cell_type": "code",
      "source": [],
      "metadata": {
        "id": "5a1om3RxZno8"
      },
      "execution_count": null,
      "outputs": []
    },
    {
      "cell_type": "code",
      "source": [],
      "metadata": {
        "id": "uzdg_fF8ZnmU"
      },
      "execution_count": null,
      "outputs": []
    },
    {
      "cell_type": "code",
      "source": [],
      "metadata": {
        "id": "GSzx47BNZnjm"
      },
      "execution_count": null,
      "outputs": []
    },
    {
      "cell_type": "code",
      "source": [],
      "metadata": {
        "id": "2sBNWUpkZnf4"
      },
      "execution_count": null,
      "outputs": []
    },
    {
      "cell_type": "code",
      "execution_count": null,
      "metadata": {
        "id": "EQUTPnFov3Sw"
      },
      "outputs": [],
      "source": [
        "model = Attention_UNet(input_shape, NUM_CLASSES=3, dropout_rate=0.0, batch_norm=True)\n",
        "model.compile(optimizer='adam', loss=loss_fun, metrics=[\"accuracy\",\n",
        "                                                        tf.keras.metrics.MeanIoU(3),\n",
        "                                                        sm.metrics.IOUScore(threshold=0.5),\n",
        "                                                        tf.keras.metrics.Precision(),\n",
        "                                                        tf.keras.metrics.Recall(),\n",
        "                                                        [jacard_coef],\n",
        "                                                        [dice_coef],\n",
        "                                                        sm.metrics.FScore(threshold=0.5)])\n",
        "model.summary()\n"
      ]
    },
    {
      "cell_type": "code",
      "execution_count": null,
      "metadata": {
        "colab": {
          "base_uri": "https://localhost:8080/"
        },
        "id": "hX7uUBe7-Inh",
        "outputId": "6f8e936e-6af0-47be-f9ff-92964df34439"
      },
      "outputs": [
        {
          "output_type": "execute_result",
          "data": {
            "text/plain": [
              "(12, 256, 256, 1)"
            ]
          },
          "metadata": {},
          "execution_count": 31
        }
      ],
      "source": [
        "np.shape(X_test)"
      ]
    },
    {
      "cell_type": "code",
      "execution_count": null,
      "metadata": {
        "id": "KGb0n5ndv3Q6"
      },
      "outputs": [],
      "source": [
        "log_csv = CSVLogger('/content/drive/MyDrive/my_logs.csv', separator=',', append=True)\n",
        "early_stop = EarlyStopping(monitor='val_dice_coef', patience=3, verbose=1)\n",
        "file_path = '/content/drive/MyDrive/0_epoch_weights/epochno-{epoch:04d}.hdf5'\n",
        "checkpoint = ModelCheckpoint(file_path, verbose=1,monitor=\"val_dice_coef\", save_best_only=True, mode='max',save_freq=1)\n",
        "\n",
        "\n",
        "tensorboard_callback = tf.keras.callbacks.TensorBoard(\n",
        "    log_dir='/content/drive/MyDrive/0ten/Tensorboard_logs',\n",
        "    histogram_freq=1,\n",
        "    write_graph=True,\n",
        "    write_images=False,\n",
        "    write_steps_per_second=False,\n",
        "    update_freq='epoch',\n",
        "    profile_batch=0,\n",
        "    embeddings_freq=0,\n",
        "    embeddings_metadata=None,\n",
        ")\n",
        "\n",
        "callbacks_list = [log_csv,checkpoint,tensorboard_callback,early_stop]"
      ]
    },
    {
      "cell_type": "code",
      "execution_count": null,
      "metadata": {
        "colab": {
          "base_uri": "https://localhost:8080/"
        },
        "id": "b3LW--Xe9XpT",
        "outputId": "2c955c76-634a-456a-8fd9-12e66b22fa6a"
      },
      "outputs": [
        {
          "output_type": "execute_result",
          "data": {
            "text/plain": [
              "(12, 256, 256, 1)"
            ]
          },
          "metadata": {},
          "execution_count": 72
        }
      ],
      "source": [
        "np.shape(X_test)"
      ]
    },
    {
      "cell_type": "code",
      "execution_count": null,
      "metadata": {
        "id": "eRVoHBXFkcEI"
      },
      "outputs": [],
      "source": [
        "# from keras.models import load_model"
      ]
    },
    {
      "cell_type": "code",
      "execution_count": null,
      "metadata": {
        "id": "m6zrt2WnkcBj"
      },
      "outputs": [],
      "source": [
        "from keras.models import load_model\n",
        "model = load_model('/content/drive/MyDrive/0_epoch_weights/epochno-0003.hdf5',custom_objects={'focal_loss':loss_fun,\n",
        "                                                                                 'iou_score':sm.metrics.IOUScore(threshold=0.5),\n",
        "                                                                                 \"jacard_coef\":jacard_coef,\n",
        "                                                                                 \"dice_coef\":dice_coef,\n",
        "                                                                                 'f1-score':sm.metrics.FScore(threshold=0.5)})\n"
      ]
    },
    {
      "cell_type": "code",
      "execution_count": null,
      "metadata": {
        "id": "TgFaBNR4kb_W"
      },
      "outputs": [],
      "source": [
        "#IOU\n",
        "y_pred=model.predict(X_test)\n",
        "y_pred_argmax=np.argmax(y_pred, axis=3)\n"
      ]
    },
    {
      "cell_type": "code",
      "execution_count": null,
      "metadata": {
        "id": "d0v9ZqDIrsl7"
      },
      "outputs": [],
      "source": [
        "y_pred"
      ]
    },
    {
      "cell_type": "code",
      "execution_count": null,
      "metadata": {
        "colab": {
          "base_uri": "https://localhost:8080/",
          "height": 261
        },
        "id": "9is7Sd6Okb8f",
        "outputId": "d63df006-8c03-415c-92cd-90468633fdc6"
      },
      "outputs": [
        {
          "output_type": "display_data",
          "data": {
            "text/plain": [
              "<Figure size 864x576 with 3 Axes>"
            ],
            "image/png": "[encoded data removed]"
          },
          "metadata": {
            "needs_background": "light"
          }
        }
      ],
      "source": [
        "# Predict on a few images\n",
        "#model = get_model()\n",
        "#model.load_weights('???.hdf5')\n",
        "import random\n",
        "test_img_number = random.randint(0, len(X_test))\n",
        "test_img = X_test[test_img_number]\n",
        "ground_truth=y_test[test_img_number]\n",
        "test_img_norm=test_img[:,:,0][:,:,None]\n",
        "test_img_input=np.expand_dims(test_img_norm, 0)\n",
        "prediction = (model.predict(test_img_input))\n",
        "predicted_img=np.argmax(prediction, axis=3)[0,:,:]\n",
        "\n",
        "\n",
        "plt.figure(figsize=(12, 8))\n",
        "plt.subplot(231)\n",
        "plt.title('Testing Image')\n",
        "plt.imshow(test_img[:,:,0])\n",
        "plt.subplot(232)\n",
        "plt.title('Testing Label')\n",
        "plt.imshow(ground_truth[:,:,0])\n",
        "plt.subplot(233)\n",
        "plt.title('Prediction on test image')\n",
        "plt.imshow(predicted_img)\n",
        "plt.show()\n",
        "\n"
      ]
    },
    {
      "cell_type": "code",
      "execution_count": null,
      "metadata": {
        "id": "YAd6CVIPv3N1"
      },
      "outputs": [],
      "source": [
        "history = model.fit(X_train,y_train_cat,\n",
        "                    batch_size = 8,\n",
        "                    verbose=1,\n",
        "                    epochs=20,\n",
        "                    validation_data=(X_val,y_val_cat),\n",
        "                    callbacks=[callbacks_list],\n",
        "                    shuffle=False)"
      ]
    },
    {
      "cell_type": "code",
      "source": [
        "model.save(\"/content/drive/MyDrive/0_epoch_weights/ayush.h5\")"
      ],
      "metadata": {
        "id": "K_HYzioO4eWx"
      },
      "execution_count": null,
      "outputs": []
    },
    {
      "cell_type": "code",
      "source": [
        "loss = history.history['loss']\n",
        "val_loss = history.history['val_loss']\n",
        "\n",
        "plt.figure()\n",
        "plt.plot(history.epoch, loss, 'r', label='Training loss')\n",
        "plt.plot(history.epoch, val_loss, 'bo', label='Validation loss')\n",
        "plt.title('Training and Validation Loss')\n",
        "plt.xlabel('Epoch')\n",
        "plt.ylabel('Loss Value')\n",
        "plt.ylim([0, 1])\n",
        "plt.legend()\n",
        "plt.show()"
      ],
      "metadata": {
        "colab": {
          "base_uri": "https://localhost:8080/",
          "height": 235
        },
        "id": "5BWBXh8GmDzi",
        "outputId": "1375af89-622f-425f-e61d-9cbca51fe11a"
      },
      "execution_count": null,
      "outputs": [
        {
          "output_type": "error",
          "ename": "NameError",
          "evalue": "ignored",
          "traceback": [
            "\u001b[0;31m---------------------------------------------------------------------------\u001b[0m",
            "\u001b[0;31mNameError\u001b[0m                                 Traceback (most recent call last)",
            "\u001b[0;32m<ipython-input-2-65454bdb37bb>\u001b[0m in \u001b[0;36m<module>\u001b[0;34m()\u001b[0m\n\u001b[0;32m----> 1\u001b[0;31m \u001b[0mloss\u001b[0m \u001b[0;34m=\u001b[0m \u001b[0mhistory\u001b[0m\u001b[0;34m.\u001b[0m\u001b[0mhistory\u001b[0m\u001b[0;34m[\u001b[0m\u001b[0;34m'loss'\u001b[0m\u001b[0;34m]\u001b[0m\u001b[0;34m\u001b[0m\u001b[0;34m\u001b[0m\u001b[0m\n\u001b[0m\u001b[1;32m      2\u001b[0m \u001b[0mval_loss\u001b[0m \u001b[0;34m=\u001b[0m \u001b[0mhistory\u001b[0m\u001b[0;34m.\u001b[0m\u001b[0mhistory\u001b[0m\u001b[0;34m[\u001b[0m\u001b[0;34m'val_loss'\u001b[0m\u001b[0;34m]\u001b[0m\u001b[0;34m\u001b[0m\u001b[0;34m\u001b[0m\u001b[0m\n\u001b[1;32m      3\u001b[0m \u001b[0;34m\u001b[0m\u001b[0m\n\u001b[1;32m      4\u001b[0m \u001b[0mplt\u001b[0m\u001b[0;34m.\u001b[0m\u001b[0mfigure\u001b[0m\u001b[0;34m(\u001b[0m\u001b[0;34m)\u001b[0m\u001b[0;34m\u001b[0m\u001b[0;34m\u001b[0m\u001b[0m\n\u001b[1;32m      5\u001b[0m \u001b[0mplt\u001b[0m\u001b[0;34m.\u001b[0m\u001b[0mplot\u001b[0m\u001b[0;34m(\u001b[0m\u001b[0mhistory\u001b[0m\u001b[0;34m.\u001b[0m\u001b[0mepoch\u001b[0m\u001b[0;34m,\u001b[0m \u001b[0mloss\u001b[0m\u001b[0;34m,\u001b[0m \u001b[0;34m'r'\u001b[0m\u001b[0;34m,\u001b[0m \u001b[0mlabel\u001b[0m\u001b[0;34m=\u001b[0m\u001b[0;34m'Training loss'\u001b[0m\u001b[0;34m)\u001b[0m\u001b[0;34m\u001b[0m\u001b[0;34m\u001b[0m\u001b[0m\n",
            "\u001b[0;31mNameError\u001b[0m: name 'history' is not defined"
          ]
        }
      ]
    },
    {
      "cell_type": "code",
      "source": [
        "img = model.predict(X_test)"
      ],
      "metadata": {
        "id": "n_auzSkybRJj"
      },
      "execution_count": null,
      "outputs": []
    },
    {
      "cell_type": "code",
      "source": [],
      "metadata": {
        "id": "aY_ejBssbkrC"
      },
      "execution_count": null,
      "outputs": []
    },
    {
      "cell_type": "code",
      "source": [
        "y_pred_argmax=np.argmax(img, axis=3)\n"
      ],
      "metadata": {
        "id": "lTVP5OMcbyVt"
      },
      "execution_count": null,
      "outputs": []
    },
    {
      "cell_type": "code",
      "source": [
        "# Predict on a few images\n",
        "#model = get_model()\n",
        "model.load_weights('/content/drive/MyDrive/0_epoch_weights/ayush.h5')\n",
        "import random\n",
        "test_img_number = random.randint(0, len(X_test))\n",
        "test_img = X_test[test_img_number]\n",
        "ground_truth=y_test[test_img_number]\n",
        "test_img_norm=test_img[:,:,0][:,:,None]\n",
        "test_img_input=np.expand_dims(test_img_norm, 0)\n",
        "prediction = (model.predict(test_img_input))\n",
        "predicted_img=np.argmax(prediction, axis=3)[0,:,:]\n",
        "\n",
        "\n",
        "plt.figure(figsize=(12, 8))\n",
        "plt.subplot(231)\n",
        "plt.title('Testing Image')\n",
        "plt.imshow(test_img[:,:,0],cmap='jet')\n",
        "plt.subplot(232)\n",
        "plt.title('Testing Label')\n",
        "plt.imshow(ground_truth[:,:,0],cmap='jet')\n",
        "plt.subplot(233)\n",
        "plt.title('Prediction on test image')\n",
        "plt.imshow(predicted_img, cmap=\"jet\")\n",
        "plt.show()\n",
        "\n"
      ],
      "metadata": {
        "colab": {
          "base_uri": "https://localhost:8080/",
          "height": 261
        },
        "id": "Y0Z6i5-ib-Uz",
        "outputId": "e36fa4b7-1f24-4039-97cd-c7a796ab547b"
      },
      "execution_count": null,
      "outputs": [
        {
          "output_type": "display_data",
          "data": {
            "text/plain": [
              "<Figure size 864x576 with 3 Axes>"
            ],
            "image/png": "[encoded data removed]"
          },
          "metadata": {
            "needs_background": "light"
          }
        }
      ]
    },
    {
      "cell_type": "code",
      "source": [
        "tf.model.save(\"/content/drive/MyDrive/0_epoch_weights/model.h5\")"
      ],
      "metadata": {
        "colab": {
          "base_uri": "https://localhost:8080/",
          "height": 165
        },
        "id": "R3Xag5qHaYsL",
        "outputId": "49fe144e-448d-44a4-fd0e-9671a51869d9"
      },
      "execution_count": null,
      "outputs": [
        {
          "output_type": "error",
          "ename": "AttributeError",
          "evalue": "ignored",
          "traceback": [
            "\u001b[0;31m---------------------------------------------------------------------------\u001b[0m",
            "\u001b[0;31mAttributeError\u001b[0m                            Traceback (most recent call last)",
            "\u001b[0;32m<ipython-input-95-e89757950888>\u001b[0m in \u001b[0;36m<module>\u001b[0;34m()\u001b[0m\n\u001b[0;32m----> 1\u001b[0;31m \u001b[0mtf\u001b[0m\u001b[0;34m.\u001b[0m\u001b[0mmodel\u001b[0m\u001b[0;34m.\u001b[0m\u001b[0msave\u001b[0m\u001b[0;34m(\u001b[0m\u001b[0;34m\"/content/drive/MyDrive/0_epoch_weights/model.h5\"\u001b[0m\u001b[0;34m)\u001b[0m\u001b[0;34m\u001b[0m\u001b[0;34m\u001b[0m\u001b[0m\n\u001b[0m",
            "\u001b[0;31mAttributeError\u001b[0m: module 'tensorflow' has no attribute 'model'"
          ]
        }
      ]
    },
    {
      "cell_type": "code",
      "execution_count": null,
      "metadata": {
        "id": "oq7Hm7u0v3MK",
        "colab": {
          "base_uri": "https://localhost:8080/",
          "height": 165
        },
        "outputId": "e1a80597-e3ba-4fd2-9040-4ced1204f923"
      },
      "outputs": [
        {
          "output_type": "error",
          "ename": "AttributeError",
          "evalue": "ignored",
          "traceback": [
            "\u001b[0;31m---------------------------------------------------------------------------\u001b[0m",
            "\u001b[0;31mAttributeError\u001b[0m                            Traceback (most recent call last)",
            "\u001b[0;32m<ipython-input-94-2d9897b1106e>\u001b[0m in \u001b[0;36m<module>\u001b[0;34m()\u001b[0m\n\u001b[0;32m----> 1\u001b[0;31m \u001b[0mkeras\u001b[0m\u001b[0;34m.\u001b[0m\u001b[0mmodel\u001b[0m\u001b[0;34m.\u001b[0m\u001b[0msave\u001b[0m\u001b[0;34m(\u001b[0m\u001b[0mfilepath\u001b[0m\u001b[0;34m=\u001b[0m\u001b[0;34m'model.h5'\u001b[0m\u001b[0;34m)\u001b[0m\u001b[0;34m\u001b[0m\u001b[0;34m\u001b[0m\u001b[0m\n\u001b[0m",
            "\u001b[0;31mAttributeError\u001b[0m: module 'tensorflow.keras' has no attribute 'model'"
          ]
        }
      ],
      "source": []
    },
    {
      "cell_type": "code",
      "execution_count": null,
      "metadata": {
        "id": "KVdbzthTv3KM"
      },
      "outputs": [],
      "source": []
    },
    {
      "cell_type": "code",
      "execution_count": null,
      "metadata": {
        "id": "_OMtZLRPv3Io"
      },
      "outputs": [],
      "source": []
    },
    {
      "cell_type": "code",
      "execution_count": null,
      "metadata": {
        "id": "RO7mi7j1v3G2"
      },
      "outputs": [],
      "source": []
    },
    {
      "cell_type": "code",
      "execution_count": null,
      "metadata": {
        "id": "VpRWnAGvv3AR"
      },
      "outputs": [],
      "source": [
        "# model.fit(x_train, y_train, initial_epoch=9, epochs=19, callbacks=[Tensorboard()]"
      ]
    },
    {
      "cell_type": "code",
      "execution_count": null,
      "metadata": {
        "id": "UtcVTJtLv29Y"
      },
      "outputs": [],
      "source": []
    },
    {
      "cell_type": "code",
      "execution_count": null,
      "metadata": {
        "id": "PQ7tmv07v265"
      },
      "outputs": [],
      "source": []
    },
    {
      "cell_type": "code",
      "execution_count": null,
      "metadata": {
        "id": "eIaWJDiPv24Q"
      },
      "outputs": [],
      "source": []
    },
    {
      "cell_type": "code",
      "execution_count": null,
      "metadata": {
        "id": "UD8RAOwrv21t"
      },
      "outputs": [],
      "source": []
    },
    {
      "cell_type": "code",
      "execution_count": null,
      "metadata": {
        "id": "pniTfLWNv2zP"
      },
      "outputs": [],
      "source": []
    },
    {
      "cell_type": "code",
      "execution_count": null,
      "metadata": {
        "id": "08WAjjk9v2wu"
      },
      "outputs": [],
      "source": []
    },
    {
      "cell_type": "code",
      "execution_count": null,
      "metadata": {
        "id": "JGzF4RBxv2un"
      },
      "outputs": [],
      "source": []
    },
    {
      "cell_type": "code",
      "execution_count": null,
      "metadata": {
        "id": "8Z7TakdFv2sZ"
      },
      "outputs": [],
      "source": []
    },
    {
      "cell_type": "code",
      "execution_count": null,
      "metadata": {
        "id": "xt7n2AC3v2p5"
      },
      "outputs": [],
      "source": []
    },
    {
      "cell_type": "code",
      "execution_count": null,
      "metadata": {
        "id": "EWYzjMybv2na"
      },
      "outputs": [],
      "source": []
    },
    {
      "cell_type": "code",
      "execution_count": null,
      "metadata": {
        "id": "BJnGJb83v2lL"
      },
      "outputs": [],
      "source": []
    },
    {
      "cell_type": "code",
      "execution_count": null,
      "metadata": {
        "id": "LP4rioHMv2ip"
      },
      "outputs": [],
      "source": []
    },
    {
      "cell_type": "code",
      "execution_count": null,
      "metadata": {
        "id": "1Rv6kYV9v2gg"
      },
      "outputs": [],
      "source": []
    },
    {
      "cell_type": "code",
      "execution_count": null,
      "metadata": {
        "id": "eV8Vmdi_v2eA"
      },
      "outputs": [],
      "source": []
    },
    {
      "cell_type": "code",
      "execution_count": null,
      "metadata": {
        "id": "Yct2ihhdv2bm"
      },
      "outputs": [],
      "source": []
    }
  ],
  "metadata": {
    "colab": {
      "provenance": []
    },
    "kernelspec": {
      "display_name": "Python 3",
      "name": "python3"
    },
    "language_info": {
      "name": "python"
    },
    "gpuClass": "standard",
    "accelerator": "GPU"
  },
  "nbformat": 4,
  "nbformat_minor": 0
}